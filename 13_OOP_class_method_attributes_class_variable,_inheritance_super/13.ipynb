{
 "cells": [
  {
   "cell_type": "markdown",
   "metadata": {},
   "source": [
    "# OBJECT ORIENTED PROGRAMMING\n",
    "\n",
    "### Concepts: \n",
    "Classes are blueprint. why there is a need of OOP, progrmming went through different paradigms initally there was ```linear programming```, means we have to code line by line, then evolutionized as Paradiym of ```structured/ procedural/ controlled programming```\n",
    "and control blocks of if else, for loop, try and catch controlls allows structured programming, but even there was problem like after code its management it is difficult to manage, for that advanced pyradigm or structure of programming is ```Object Oriented Programming``` what is OOP Purpose? everything is Object and it has methods(actions Performed) and Properties/ Attributes (name, fname, education , no action but information being stored). Bascially code updation is a challanging task. So class is a Architecture \n",
    "\n",
    "Purpose in real world: Scientists classified similar Objects and made classes as in Biology like specific classes of animal and plants like of similar methods and properties , when we make big sysrems, classes have relations consider making a university management system core classes could be Management, assets, student, teachers. there is an ERD diagram, it is at the level of DB and before making a big appliation we make a ERD Diagram creating a links of elements with each other also we learn UML Diagrams and at the end we convert the end result to OOP and based on architecture we can use any OOP java, python , TS or C##\n",
    "\n",
    "``` Learn Design Patterns yourself```"
   ]
  },
  {
   "cell_type": "code",
   "execution_count": null,
   "metadata": {},
   "outputs": [],
   "source": [
    "def obj1_speak() : pass\n",
    "def obj2_speak(): speak\n",
    "\n",
    "obj1_name : str  = \"Amcucm\"\n",
    "obj2_name : str  = \"Am\"\n"
   ]
  },
  {
   "cell_type": "markdown",
   "metadata": {},
   "source": [
    "### Classes\n",
    "* Methods\n",
    "    * whenever we make methods, first argument must be additional variable( self, this, or anything else)\n",
    "* Attributes\n",
    "    * Connect with Individual Object\n",
    "* Class variables\n",
    "* Constructor\n",
    "    * def``` __init__ (self, arg1, arg2)``` # this is fixed name for constructor, can also make other optional args like in func.\n",
    "\n",
    "Class : reserved Keyword\n",
    "* SYNTAX:\n",
    "\n",
    "class Class_name() : # custom class name, naming convention is Class name first letter should be capital\n",
    "    pass # methods and attributes can be defined here\n",
    "```\n",
    "From Class we make Object, and as Object being made a method called as Constrctor (imp) we pass atrributes in this method  which is imp to make object or if not should not be passed.\n",
    "\n",
    "\n"
   ]
  },
  {
   "cell_type": "code",
   "execution_count": null,
   "metadata": {},
   "outputs": [],
   "source": [
    "class ClassName(): \n",
    "    pass"
   ]
  },
  {
   "cell_type": "code",
   "execution_count": 29,
   "metadata": {},
   "outputs": [],
   "source": [
    "class Teacher():\n",
    "    def __init__(self, teacher_id : int, teacher_name: str) ->None:# So making methods, first method is fixed which we even dont make called by default __init__ has been called which is a constructor to make it\n",
    "        self.name : str = teacher_name     # def outside class is function and inside call used to make method, so fixed first tttribute self and return type with none\n",
    "        self.teacher_id : int = teacher_id # imp is to make some attribute inside constructor body, whatever first varibale name defined in first line like self, with . any name will be attribute \n",
    "        self.organization_name =\"PIAIC\"    # at left attribute and after assignment value can be assigned \n",
    "                              # attribute name can be of variable or can be else but meaninful and relatable\n",
    "\n",
    "                                            # __int__ is mehtoda and also constructor, what self does is that work as a memeory manager and reerves methods with Objects or values stored we can use any variable name instead of Self\n",
    "    def speak(self, words : str)-> None:   # Method\n",
    "        print(f\"{self.name} is speaking {words}\")\n",
    "\n",
    "    def teaching(self, subject : str)-> None:  # Method\n",
    "        print(f\"{self.name} is teaching {subject}...!\") \n",
    "\n",
    "# from this class thousands of Objects can be made\n"
   ]
  },
  {
   "cell_type": "code",
   "execution_count": 30,
   "metadata": {},
   "outputs": [],
   "source": [
    "# Class methods and Attributes can not be directly applied , so having an Object is necessary to use methods and attributes\n",
    "# a varaible which hold all methods and attributes of a class is called Object\n",
    "\n",
    "obj1 : Teacher = Teacher(1, \"MK\") # wih this round bracket open and close Object is being Initialized and at the time of Initilaization constructor has been called only for this time\n",
    "# Teacher class instance \n",
    "\n",
    "obj2: Teacher = Teacher(2, \"CK\")"
   ]
  },
  {
   "cell_type": "code",
   "execution_count": 5,
   "metadata": {},
   "outputs": [
    {
     "data": {
      "text/plain": [
       "['__class__',\n",
       " '__delattr__',\n",
       " '__dict__',\n",
       " '__dir__',\n",
       " '__doc__',\n",
       " '__eq__',\n",
       " '__format__',\n",
       " '__ge__',\n",
       " '__getattribute__',\n",
       " '__getstate__',\n",
       " '__gt__',\n",
       " '__hash__',\n",
       " '__init__',\n",
       " '__init_subclass__',\n",
       " '__le__',\n",
       " '__lt__',\n",
       " '__module__',\n",
       " '__ne__',\n",
       " '__new__',\n",
       " '__reduce__',\n",
       " '__reduce_ex__',\n",
       " '__repr__',\n",
       " '__setattr__',\n",
       " '__sizeof__',\n",
       " '__str__',\n",
       " '__subclasshook__',\n",
       " '__weakref__',\n",
       " 'name',\n",
       " 'organization_name',\n",
       " 'speak',\n",
       " 'teacher_id',\n",
       " 'teaching']"
      ]
     },
     "execution_count": 5,
     "metadata": {},
     "output_type": "execute_result"
    }
   ],
   "source": [
    "dir(obj1)"
   ]
  },
  {
   "cell_type": "code",
   "execution_count": 31,
   "metadata": {},
   "outputs": [
    {
     "name": "stdout",
     "output_type": "stream",
     "text": [
      "MK\n",
      "1\n",
      "PIAIC\n",
      "CK\n",
      "2\n",
      "PIAIC\n"
     ]
    }
   ],
   "source": [
    "# Utlization of Objects\n",
    "\n",
    "print(obj1.name)\n",
    "print(obj1.teacher_id)\n",
    "print(obj1.organization_name)\n",
    "\n",
    "print(obj2.name)\n",
    "print(obj2.teacher_id)\n",
    "print(obj2.organization_name)\n",
    "\n"
   ]
  },
  {
   "cell_type": "code",
   "execution_count": 32,
   "metadata": {},
   "outputs": [
    {
     "name": "stdout",
     "output_type": "stream",
     "text": [
      "MK is teaching Gen AI...!\n"
     ]
    }
   ],
   "source": [
    "# we want teaching from obj1\n",
    "\n",
    "obj1.teaching(\"Gen AI\")"
   ]
  },
  {
   "cell_type": "code",
   "execution_count": 33,
   "metadata": {},
   "outputs": [
    {
     "name": "stdout",
     "output_type": "stream",
     "text": [
      "CK is teaching Python...!\n"
     ]
    }
   ],
   "source": [
    "obj2.teaching(\"Python\") # change in class results in changing everywhere after re run"
   ]
  },
  {
   "cell_type": "markdown",
   "metadata": {},
   "source": [
    "### Difference in Class Variables & Attributes \n",
    "\n",
    "* Thing which is same for all Objects is called Class variables, they are not defined in constructors\n",
    "* this value use for all Objects\n",
    "* Syntax:\n",
    "    * `ClassName.class_variable`\n",
    "* class ClassName():\n",
    "  class_variable1 : type = value\n",
    "\n",
    "* Call:\n",
    "  * Through Class Name \n",
    "  * Object_name.class_variable"
   ]
  },
  {
   "cell_type": "markdown",
   "metadata": {},
   "source": [
    "### Class Variable"
   ]
  },
  {
   "cell_type": "code",
   "execution_count": 38,
   "metadata": {},
   "outputs": [
    {
     "name": "stdout",
     "output_type": "stream",
     "text": [
      "0 0\n"
     ]
    }
   ],
   "source": [
    "class Teacher():\n",
    "    counter : int = 0 # Class Variable 1\n",
    "    help_line_no : str = \"0000 33444 \" # Class Varaible 2\n",
    "\n",
    "\n",
    "    def __init__(self, teacher_id : int, teacher_name: str) ->None:\n",
    "        self.name : str = teacher_name     \n",
    "        self.teacher_id : int = teacher_id \n",
    "        self.organization_name =\"PIAIC\"\n",
    "        Teacher.counter += 1    \n",
    "                             \n",
    "\n",
    "                                            \n",
    "    def speak(self, words : str)-> None:   \n",
    "        print(f\"{self.name} is speaking {words}\")\n",
    "\n",
    "    def teaching(self, subject : str)-> None:  # Method\n",
    "        print(f\"{self.name} is teaching {subject}...!\") \n",
    "\n",
    "    def details(self)-> None:\n",
    "        information : str = f\"\"\"\n",
    "        Teacher name is {self.name}\n",
    "        our Helpline Number is {Teacher.help_line_no}\n",
    "         \"\"\"\n",
    "        print(information)\n",
    "\n",
    "    obj1 : Teacher = Teacher(1, \"MK\")\n",
    "    obj2: Teacher = Teacher(2, \"CK\") # now what the way to call these Objects\n",
    "\n",
    "    print(Teacher.counter, obj1.counter) ## should be 1 and 1"
   ]
  },
  {
   "cell_type": "code",
   "execution_count": 36,
   "metadata": {},
   "outputs": [
    {
     "ename": "AttributeError",
     "evalue": "'Teacher' object has no attribute 'counter'",
     "output_type": "error",
     "traceback": [
      "\u001b[1;31m---------------------------------------------------------------------------\u001b[0m",
      "\u001b[1;31mAttributeError\u001b[0m                            Traceback (most recent call last)",
      "Cell \u001b[1;32mIn[36], line 1\u001b[0m\n\u001b[1;32m----> 1\u001b[0m \u001b[38;5;28mprint\u001b[39m(\u001b[43mobj1\u001b[49m\u001b[38;5;241;43m.\u001b[39;49m\u001b[43mcounter\u001b[49m)\n\u001b[0;32m      2\u001b[0m \u001b[38;5;28mprint\u001b[39m(obj2\u001b[38;5;241m.\u001b[39mcounter)\n\u001b[0;32m      3\u001b[0m \u001b[38;5;28mprint\u001b[39m(Teacher\u001b[38;5;241m.\u001b[39mcounter)\n",
      "\u001b[1;31mAttributeError\u001b[0m: 'Teacher' object has no attribute 'counter'"
     ]
    }
   ],
   "source": [
    "print(obj1.counter)\n",
    "print(obj2.counter)\n",
    "print(Teacher.counter)\n",
    "\n",
    "print(obj1.help_line_no)\n",
    "print(obj2.help_line_no)\n",
    "print(Teacher.help_line_no)"
   ]
  },
  {
   "cell_type": "code",
   "execution_count": 37,
   "metadata": {},
   "outputs": [
    {
     "ename": "AttributeError",
     "evalue": "'Teacher' object has no attribute 'details'",
     "output_type": "error",
     "traceback": [
      "\u001b[1;31m---------------------------------------------------------------------------\u001b[0m",
      "\u001b[1;31mAttributeError\u001b[0m                            Traceback (most recent call last)",
      "Cell \u001b[1;32mIn[37], line 1\u001b[0m\n\u001b[1;32m----> 1\u001b[0m \u001b[43mobj1\u001b[49m\u001b[38;5;241;43m.\u001b[39;49m\u001b[43mdetails\u001b[49m()\n",
      "\u001b[1;31mAttributeError\u001b[0m: 'Teacher' object has no attribute 'details'"
     ]
    }
   ],
   "source": [
    "obj1.details()"
   ]
  },
  {
   "cell_type": "markdown",
   "metadata": {},
   "source": [
    "# Four Pillars of OOP\n",
    "* Polymorphism\n",
    "* Inheritance\n",
    "* Encapsulation\n",
    "* Abstraction"
   ]
  },
  {
   "cell_type": "markdown",
   "metadata": {},
   "source": [
    "### Inheritance\n",
    "\n",
    "* Syntax\n",
    "```\n",
    "class ChildClass(parentClass): \n",
    "    pass\n",
    "```"
   ]
  },
  {
   "cell_type": "code",
   "execution_count": 45,
   "metadata": {},
   "outputs": [
    {
     "name": "stdout",
     "output_type": "stream",
     "text": [
      "Brown\n",
      "Black\n",
      "Parent Method Speak: urdu\n",
      "you are Looking Tv!\n",
      "+++++ Child Object ++++++++++++\n",
      "you are Looking Cenima!\n",
      "None\n",
      "Parent Method Speak: Hello World\n",
      "None\n",
      "Brown\n",
      "Black\n"
     ]
    }
   ],
   "source": [
    "\n",
    "class Parents():\n",
    "    def __init__(self)->None:\n",
    "        self.eye_color : str = \"Brown\"   # these two attributes\n",
    "        self.hair_color : str = \"Black\"\n",
    "\n",
    "    def speak(self, words:str)->None:  # Methods\n",
    "        print(f\"Parent Method Speak: {words}\")\n",
    "\n",
    "    def watching(self, object_name : str)-> None:\n",
    "        print(f\"you are Looking {object_name}!\")\n",
    "\n",
    "\n",
    "class Child(Parents): # parent class properties passed to child class\n",
    "    pass\n",
    "\n",
    "obj1 : Parents = Parents() # Parent Class Object\n",
    "print(obj1.eye_color)\n",
    "print(obj1.hair_color)\n",
    "obj1.speak(\"urdu\")\n",
    "obj1.watching(\"Tv\")\n",
    "\n",
    "print(\"+++++ Child Object ++++++++++++\")\n",
    "### Child Object\n",
    "\n",
    "obj2 : Child = Child()\n",
    "print(obj2.watching(\"Cenima\"))\n",
    "print(obj2.speak(\"Hello World\"))\n",
    "print(obj2.eye_color)\n",
    "print(obj2.hair_color)\n"
   ]
  },
  {
   "cell_type": "code",
   "execution_count": null,
   "metadata": {},
   "outputs": [],
   "source": [
    "class Parents():\n",
    "    def __init__(self)->None:\n",
    "        self.eye_color : str = \"Brown\"   # these two attributes\n",
    "        self.hair_color : str = \"Black\"\n",
    "\n",
    "    def speak(self, words:str)->None:  # Methods\n",
    "        print(f\"Parent Method Speak: {words}\")\n",
    "\n",
    "    def watching(self, object_name : str)-> None:\n",
    "        print(f\"you are Looking {object_name}!\")\n",
    "\n",
    "\n",
    "class Child(Parents): # parent class properties passed to child class\n",
    "    pass\n",
    "\n",
    "obj1 : Parents = Parents() # Parent Class Object\n",
    "print(obj1.eye_color)\n",
    "print(obj1.hair_color)\n",
    "obj1.speak(\"urdu\")\n",
    "obj1.watching(\"Tv\")\n",
    "\n",
    "print(\"++++++++++++++ Child Object ++++++++++++\")\n",
    "### Child Object\n",
    "\n",
    "obj2 : Child = Child()\n",
    "print(obj2.watching(\"Cenima\"))\n",
    "print(obj2.speak(\"Hello World\"))\n",
    "print(obj2.eye_color)\n",
    "print(obj2.hair_color)\n"
   ]
  },
  {
   "cell_type": "code",
   "execution_count": null,
   "metadata": {},
   "outputs": [],
   "source": [
    "class Parents():\n",
    "    def __init__(self)->None:\n",
    "        self.eye_color : str = \"Brown\"   # these two attributes\n",
    "        self.hair_color : str = \"Black\"\n",
    "\n",
    "    def speak(self, words:str)->None:  # Methods\n",
    "        print(f\"Parent Method Speak: {words}\")\n",
    "\n",
    "    def watching(self, object_name : str)-> None:\n",
    "        print(f\"you are Looking {object_name}!\")\n",
    "\n",
    "\n",
    "class Child(Parents): # parent class properties passed to child class # here we have made a additonal method\n",
    "    def teaching(self, subject : str )-> None:\n",
    "        print(\"Child Method for Teaching\")\n",
    "\n",
    "obj1 : Parents = Parents() # Parent Class Object\n",
    "print(obj1.eye_color)\n",
    "print(obj1.hair_color)\n",
    "obj1.speak(\"urdu\")\n",
    "obj1.watching(\"Tv\")\n",
    "\n",
    "print(\"++++++++++++++ Child Object ++++++++++++\")\n",
    "### Child Object\n",
    "\n",
    "obj2 : Child = Child()\n",
    "(obj2.watching(\"Cenima\"))\n",
    "(obj2.speak(\"Hello World\"))\n",
    "(obj2.eye_color)\n",
    "(obj2.hair_color)\n",
    "obj2.teaching(\"Deep Learning\")\n",
    "\n",
    "\n",
    "# Real world use case of additonal Method: HR management system , Employee enroll CNIC, last degree we will make a parent class for same work need to done for all employees, but \n",
    "# ake an accout on Lucid Charts, inital work flow, architecture of softwares we draw here initially"
   ]
  },
  {
   "cell_type": "code",
   "execution_count": 53,
   "metadata": {},
   "outputs": [
    {
     "ename": "TypeError",
     "evalue": "Developer.__init__() takes 2 positional arguments but 3 were given",
     "output_type": "error",
     "traceback": [
      "\u001b[1;31m---------------------------------------------------------------------------\u001b[0m",
      "\u001b[1;31mTypeError\u001b[0m                                 Traceback (most recent call last)",
      "Cell \u001b[1;32mIn[53], line 19\u001b[0m\n\u001b[0;32m     16\u001b[0m         \u001b[38;5;28mself\u001b[39m\u001b[38;5;241m.\u001b[39mprogramming_skills : \u001b[38;5;28mlist\u001b[39m[\u001b[38;5;28mstr\u001b[39m] \u001b[38;5;241m=\u001b[39m [python] \u001b[38;5;66;03m# python by default\u001b[39;00m\n\u001b[0;32m     18\u001b[0m designer1 : Designer \u001b[38;5;241m=\u001b[39m Designer (\u001b[38;5;124m\"\u001b[39m\u001b[38;5;124mAnimation artist\u001b[39m\u001b[38;5;124m\"\u001b[39m, \u001b[38;5;124m\"\u001b[39m\u001b[38;5;124mAmcucm\u001b[39m\u001b[38;5;124m\"\u001b[39m)\n\u001b[1;32m---> 19\u001b[0m dev1 : Developer \u001b[38;5;241m=\u001b[39m \u001b[43mDeveloper\u001b[49m\u001b[43m(\u001b[49m\u001b[38;5;124;43m\"\u001b[39;49m\u001b[38;5;124;43m GEN AI Engineer\u001b[39;49m\u001b[38;5;124;43m\"\u001b[39;49m\u001b[43m,\u001b[49m\u001b[43m \u001b[49m\u001b[38;5;124;43m\"\u001b[39;49m\u001b[38;5;124;43mAmcucm\u001b[39;49m\u001b[38;5;124;43m\"\u001b[39;49m\u001b[43m)\u001b[49m\n\u001b[0;32m     21\u001b[0m \u001b[38;5;28mprint\u001b[39m(designer1\u001b[38;5;241m.\u001b[39mtitle)\n\u001b[0;32m     22\u001b[0m \u001b[38;5;28mprint\u001b[39m(dev1\u001b[38;5;241m.\u001b[39mprogramming_skills)\n",
      "\u001b[1;31mTypeError\u001b[0m: Developer.__init__() takes 2 positional arguments but 3 were given"
     ]
    }
   ],
   "source": [
    "class Employee():\n",
    "    def __init__(self, name: str) -> None: \n",
    "        self.name : str = name\n",
    "        self.education  : str = \"\"\n",
    "        self.department : str = \"\"\n",
    "\n",
    "class Designer(Employee):\n",
    "    def __init__(self, title : str, name: str) -> None:\n",
    "        super().__init__(name)\n",
    "        self.title : str = title\n",
    "\n",
    "\n",
    "class Developer (Employee):\n",
    "    def __init__ (self, title: str )-> None:\n",
    "        super.title = title\n",
    "        self.programming_skills : list[str] = [python] # python by default\n",
    "\n",
    "designer1 : Designer = Designer (\"Animation artist\", \"Amcucm\")\n",
    "dev1 : Developer = Developer(\" GEN AI Engineer\", \"Amcucm\")\n",
    "\n",
    "print(designer1.title)\n",
    "print(dev1.programming_skills)"
   ]
  }
 ],
 "metadata": {
  "kernelspec": {
   "display_name": "python12",
   "language": "python",
   "name": "python3"
  },
  "language_info": {
   "codemirror_mode": {
    "name": "ipython",
    "version": 3
   },
   "file_extension": ".py",
   "mimetype": "text/x-python",
   "name": "python",
   "nbconvert_exporter": "python",
   "pygments_lexer": "ipython3",
   "version": "3.12.0"
  }
 },
 "nbformat": 4,
 "nbformat_minor": 2
}
