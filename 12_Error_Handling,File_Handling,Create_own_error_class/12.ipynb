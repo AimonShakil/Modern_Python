{
 "cells": [
  {
   "cell_type": "code",
   "execution_count": null,
   "metadata": {},
   "outputs": [],
   "source": [
    "print(\"logic 1\")\n",
    "print(\"Logic 2\")\n",
    "\n",
    "li : list[int] =[1, 2, 3]\n",
    "\n",
    "try:\n",
    "    print(5/2)# Logic Code  ERROR, as error occured here it directly moved to line of except ecluding \n",
    "    print(li[0])\n",
    "    print(xyz) # Error here\n",
    "\n",
    "except(ZeroDivisionError, IndexError, NameError ): # error name without quotation, when handled did't got error\n",
    "   print(\"ZeroDivsion Error\")\n",
    "\n",
    "print(\"logic4\")\n",
    "print(\"logic5\")"
   ]
  },
  {
   "cell_type": "markdown",
   "metadata": {},
   "source": [
    "### Handling Individual Errors & Multiple Excepts\n"
   ]
  },
  {
   "cell_type": "code",
   "execution_count": 1,
   "metadata": {},
   "outputs": [
    {
     "name": "stdout",
     "output_type": "stream",
     "text": [
      "logic 1\n",
      "Logic 2\n",
      "2.5\n",
      "1\n",
      "NameError\n",
      "logic4\n",
      "logic5\n"
     ]
    }
   ],
   "source": [
    "# In example above, in except block all error are mentioned but even if error occured in first line it omit other Class Errors \n",
    "# how to solve that:\n",
    "\n",
    "print(\"logic 1\")\n",
    "print(\"Logic 2\")\n",
    "\n",
    "li : list[int] =[1, 2, 3]\n",
    "\n",
    "try:\n",
    "    print(5/2)\n",
    "    print(li[0])\n",
    "    print(xyz) # Error here\n",
    "\n",
    "except (ZeroDivisionError): \n",
    "   print(\"ZeroDivsion Error\")\n",
    "except (IndexError):\n",
    "    print(\"Index Error\")\n",
    "except (NameError):\n",
    "    print(\"NameError\")\n",
    "\n",
    "except: # any other error class is being accepted and error will be displayed\n",
    "     print(\" Some error occured!\")\n",
    "\n",
    "print(\"logic4\")\n",
    "print(\"logic5\")"
   ]
  },
  {
   "cell_type": "code",
   "execution_count": 3,
   "metadata": {},
   "outputs": [
    {
     "name": "stdout",
     "output_type": "stream",
     "text": [
      "logic 1\n",
      "Logic 2\n",
      "2.5\n",
      "1\n",
      "Some error occured!\n",
      "[Errno 2] No such file or directory: 'aa.txt'\n",
      "logic4\n",
      "logic5\n"
     ]
    }
   ],
   "source": [
    "# Handling Error with a Dynamic Message of Error\n",
    "\n",
    "print(\"logic 1\")\n",
    "print(\"Logic 2\")\n",
    "\n",
    "li : list[int] =[1, 2, 3]\n",
    "\n",
    "try:\n",
    "    print(5/2)\n",
    "    print(li[0])\n",
    "    # print(xyz) # Error here\n",
    "    open(\"aa.txt\")\n",
    "\n",
    "except (ZeroDivisionError): \n",
    "   print(\"ZeroDivsion Error\")\n",
    "except (IndexError):\n",
    "    print(\"Index Error\")\n",
    "except (NameError):\n",
    "    print(\"NameError\")\n",
    "\n",
    "except Exception as e:\n",
    "     print(f\"Some error occured!\\n{e}\") # Also Shows error\n",
    "\n",
    "print(\"logic4\")\n",
    "print(\"logic5\")"
   ]
  },
  {
   "cell_type": "code",
   "execution_count": null,
   "metadata": {},
   "outputs": [],
   "source": [
    "# Making Classes Using Object Oriented Programming and take some Parameters"
   ]
  },
  {
   "cell_type": "markdown",
   "metadata": {},
   "source": [
    "## Student / Card Management System \n",
    "* Age allowed is 18-60 years old "
   ]
  },
  {
   "cell_type": "code",
   "execution_count": 11,
   "metadata": {},
   "outputs": [
    {
     "name": "stdout",
     "output_type": "stream",
     "text": [
      "Am Cucm 1 30\n"
     ]
    }
   ],
   "source": [
    "class StudentCard():\n",
    "    def __init__(self, roll_no :int, name: str, age: int) -> None: # we can have different attributes when we call it\n",
    "    # Making simple rule: whenerver we make this class object or Instance at that time we have to pass age must\n",
    "    # and givig these 3 params are imp and wheever we generate an error what we will be doing  \n",
    "\n",
    "        if age < 18 or age > 60: # less than 18 and more than 60 we want to generate an error, so we have to make an \"Custom error class\" and then will display \n",
    "            raise StudentAgeError(\" You are not Eliglble for this program\")\n",
    "        self.roll_no = roll_no\n",
    "        self.name = name\n",
    "        self.age = age\n",
    "\n",
    "class StudentAgeError(Exception):    #Custom Error Class:  deriving from exception class this is parent Class \n",
    "    pass # pass means its just raising we are not writing in anything\n",
    "\n",
    "student1 = StudentCard(1, \"Am Cucm\", 30)  # Class object of student Card\n",
    "print(student1.name, student1.roll_no, student1.age) \n"
   ]
  },
  {
   "cell_type": "code",
   "execution_count": 12,
   "metadata": {},
   "outputs": [
    {
     "ename": "StudentAgeError",
     "evalue": " You are not Eliglble for this program",
     "output_type": "error",
     "traceback": [
      "\u001b[1;31m---------------------------------------------------------------------------\u001b[0m",
      "\u001b[1;31mStudentAgeError\u001b[0m                           Traceback (most recent call last)",
      "Cell \u001b[1;32mIn[12], line 4\u001b[0m\n\u001b[0;32m      1\u001b[0m \u001b[38;5;66;03m# Takin this cod and try to enroll another student\u001b[39;00m\n\u001b[1;32m----> 4\u001b[0m student1 \u001b[38;5;241m=\u001b[39m \u001b[43mStudentCard\u001b[49m\u001b[43m(\u001b[49m\u001b[38;5;241;43m1\u001b[39;49m\u001b[43m,\u001b[49m\u001b[43m \u001b[49m\u001b[38;5;124;43m\"\u001b[39;49m\u001b[38;5;124;43mAm Cucm\u001b[39;49m\u001b[38;5;124;43m\"\u001b[39;49m\u001b[43m,\u001b[49m\u001b[43m \u001b[49m\u001b[38;5;241;43m61\u001b[39;49m\u001b[43m)\u001b[49m  \u001b[38;5;66;03m# Class object of student Card\u001b[39;00m\n\u001b[0;32m      5\u001b[0m \u001b[38;5;28mprint\u001b[39m(student1\u001b[38;5;241m.\u001b[39mname, student1\u001b[38;5;241m.\u001b[39mroll_no, student1\u001b[38;5;241m.\u001b[39mage) \n",
      "Cell \u001b[1;32mIn[11], line 7\u001b[0m, in \u001b[0;36mStudentCard.__init__\u001b[1;34m(self, roll_no, name, age)\u001b[0m\n\u001b[0;32m      2\u001b[0m \u001b[38;5;28;01mdef\u001b[39;00m \u001b[38;5;21m__init__\u001b[39m(\u001b[38;5;28mself\u001b[39m, roll_no :\u001b[38;5;28mint\u001b[39m, name: \u001b[38;5;28mstr\u001b[39m, age: \u001b[38;5;28mint\u001b[39m) \u001b[38;5;241m-\u001b[39m\u001b[38;5;241m>\u001b[39m \u001b[38;5;28;01mNone\u001b[39;00m: \u001b[38;5;66;03m# we can have different attributes when we call it\u001b[39;00m\n\u001b[0;32m      3\u001b[0m \u001b[38;5;66;03m# Making simple rule: whenerver we make this class object or Instance at that time we have to pass age must\u001b[39;00m\n\u001b[0;32m      4\u001b[0m \u001b[38;5;66;03m# and givig these 3 params are imp and wheever we generate an error what we will be doing  \u001b[39;00m\n\u001b[0;32m      6\u001b[0m     \u001b[38;5;28;01mif\u001b[39;00m age \u001b[38;5;241m<\u001b[39m \u001b[38;5;241m18\u001b[39m \u001b[38;5;129;01mor\u001b[39;00m age \u001b[38;5;241m>\u001b[39m \u001b[38;5;241m60\u001b[39m: \u001b[38;5;66;03m# less than 18 and more than 60 we want to generate an error, so we have to make an \"Custom error class\" and then will display \u001b[39;00m\n\u001b[1;32m----> 7\u001b[0m         \u001b[38;5;28;01mraise\u001b[39;00m StudentAgeError(\u001b[38;5;124m\"\u001b[39m\u001b[38;5;124m You are not Eliglble for this program\u001b[39m\u001b[38;5;124m\"\u001b[39m)\n\u001b[0;32m      8\u001b[0m     \u001b[38;5;28mself\u001b[39m\u001b[38;5;241m.\u001b[39mroll_no \u001b[38;5;241m=\u001b[39m roll_no\n\u001b[0;32m      9\u001b[0m     \u001b[38;5;28mself\u001b[39m\u001b[38;5;241m.\u001b[39mname \u001b[38;5;241m=\u001b[39m name\n",
      "\u001b[1;31mStudentAgeError\u001b[0m:  You are not Eliglble for this program"
     ]
    }
   ],
   "source": [
    "# Takin this cod and try to enroll another student\n",
    "\n",
    "\n",
    "student1 = StudentCard(1, \"Am Cucm\", 61)  # Class object of student Card\n",
    "print(student1.name, student1.roll_no, student1.age) # our Custom error will raise"
   ]
  },
  {
   "cell_type": "markdown",
   "metadata": {},
   "source": [
    "# File Handling\n",
    "\n",
    "<img src= \" put url here\"> copy image address and paste"
   ]
  },
  {
   "cell_type": "code",
   "execution_count": 1,
   "metadata": {},
   "outputs": [
    {
     "data": {
      "text/plain": [
       "<_io.TextIOWrapper name='./abc.txt' mode='r' encoding='utf-8'>"
      ]
     },
     "execution_count": 1,
     "metadata": {},
     "output_type": "execute_result"
    }
   ],
   "source": [
    "# These are access modifiers that can be used , we have differnt file path absolute path , relative path \n",
    "# or souble or single dott with forward and backward slashes\n",
    "# * Absolute path: Complete URL\n",
    "# * Relative PAth moving from  presnt directory forward or backward\n",
    "\n",
    "# we want that abc.txt file should be read by python file its analysis and updation should be done as many other tasks through as well\n",
    "# to achieve this we have a function in python called open \n",
    "\n",
    "open (\"./abc.txt\") # this dont run direct , input output controller function made an Object and retured but not went into any variable\n",
    "# so we dont use it directly, so we have to make an Object \n"
   ]
  },
  {
   "cell_type": "code",
   "execution_count": 2,
   "metadata": {},
   "outputs": [
    {
     "data": {
      "text/plain": [
       "<_io.TextIOWrapper name='./abc.txt' mode='r' encoding='utf-8'>"
      ]
     },
     "execution_count": 2,
     "metadata": {},
     "output_type": "execute_result"
    }
   ],
   "source": [
    "data = open(\"./abc.txt\")\n",
    "data # again by directly calling telling modifier, bcoz this is an Object having its own methods and Attributes"
   ]
  },
  {
   "cell_type": "code",
   "execution_count": 4,
   "metadata": {},
   "outputs": [
    {
     "data": {
      "text/plain": [
       "['_CHUNK_SIZE',\n",
       " '_checkClosed',\n",
       " '_checkReadable',\n",
       " '_checkSeekable',\n",
       " '_checkWritable',\n",
       " '_finalizing',\n",
       " 'buffer',\n",
       " 'close',\n",
       " 'closed',\n",
       " 'detach',\n",
       " 'encoding',\n",
       " 'errors',\n",
       " 'fileno',\n",
       " 'flush',\n",
       " 'isatty',\n",
       " 'line_buffering',\n",
       " 'mode',\n",
       " 'name',\n",
       " 'newlines',\n",
       " 'read',\n",
       " 'readable',\n",
       " 'readline',\n",
       " 'readlines',\n",
       " 'reconfigure',\n",
       " 'seek',\n",
       " 'seekable',\n",
       " 'tell',\n",
       " 'truncate',\n",
       " 'writable',\n",
       " 'write',\n",
       " 'write_through',\n",
       " 'writelines']"
      ]
     },
     "execution_count": 4,
     "metadata": {},
     "output_type": "execute_result"
    }
   ],
   "source": [
    "# Methods and attributes , at expertlevel to learn each \n",
    "[i for i in dir(data) if \"__\" not in i]"
   ]
  },
  {
   "cell_type": "code",
   "execution_count": 5,
   "metadata": {},
   "outputs": [
    {
     "data": {
      "text/plain": [
       "_io.TextIOWrapper"
      ]
     },
     "execution_count": 5,
     "metadata": {},
     "output_type": "execute_result"
    }
   ],
   "source": [
    "type(data)"
   ]
  },
  {
   "cell_type": "code",
   "execution_count": 6,
   "metadata": {},
   "outputs": [
    {
     "name": "stdout",
     "output_type": "stream",
     "text": [
      "line 1\n",
      "line 2\n"
     ]
    }
   ],
   "source": [
    "# Method Read\n",
    "\n",
    "from typing import TextIO # import class\n",
    "\n",
    "data : TextIO = open(\"./abc.txt\") # Connectivity with abc.txt file, as data files are huge in size with millions of data so this connectivity sldo needs to be disconnected\n",
    "print(data.read()) #it will read all files in one go"
   ]
  },
  {
   "cell_type": "code",
   "execution_count": null,
   "metadata": {},
   "outputs": [],
   "source": [
    "# Solution is to cose\n",
    "from typing import TextIO # import class\n",
    "\n",
    "data : TextIO = open(\"./abc.txt\") \n",
    "print(data.read())\n",
    "data.close() # Close Connetcivity \n"
   ]
  },
  {
   "cell_type": "code",
   "execution_count": 9,
   "metadata": {},
   "outputs": [
    {
     "name": "stdout",
     "output_type": "stream",
     "text": [
      "<class '_io.TextIOWrapper'>\n",
      "line 1\n",
      "line 2\n",
      "line 3\n",
      "line 4\n",
      "line 5\n",
      "\n",
      "abc\n"
     ]
    }
   ],
   "source": [
    "# Problem : every time have to make connection and Close, and for effciently closing, WITH block is introduced\n",
    "# Same Code with WITH Block\n",
    "\n",
    "with open (\"./abc.txt\") as file: # a Local variable has been made \n",
    "    print(type(file))\n",
    "    print(file.read()) # connectivty Automaytically disconnects after this block and read altogether\n",
    "\n",
    "print(\"abc\")"
   ]
  },
  {
   "cell_type": "code",
   "execution_count": 15,
   "metadata": {},
   "outputs": [
    {
     "name": "stdout",
     "output_type": "stream",
     "text": [
      "<class '_io.TextIOWrapper'>\n",
      "line 1\n",
      "line 2\n"
     ]
    }
   ],
   "source": [
    "# Read Line Method \n",
    "\n",
    "with open (\"./abc.txt\") as file: \n",
    "    print(type(file))\n",
    "    print(file.readline(), end= \"\") # read only first line\n",
    "    print(file.readline(), end= \"\") # already has \\n and goes to line 2 after recalling"
   ]
  },
  {
   "cell_type": "code",
   "execution_count": 11,
   "metadata": {},
   "outputs": [
    {
     "name": "stdout",
     "output_type": "stream",
     "text": [
      "<class '_io.TextIOWrapper'>\n",
      "['line 1\\n', 'line 2\\n', 'line 3\\n', 'line 4\\n', 'line 5\\n']\n"
     ]
    }
   ],
   "source": [
    "# Read Lines Method \n",
    "\n",
    "with open (\"./abc.txt\") as file: \n",
    "    print(type(file))\n",
    "    print(file.readlines()) # read all lines in form of Itertaion, advantage is we can put alot of Logic here "
   ]
  },
  {
   "cell_type": "code",
   "execution_count": 12,
   "metadata": {},
   "outputs": [
    {
     "name": "stdout",
     "output_type": "stream",
     "text": [
      "<class '_io.TextIOWrapper'>\n",
      "['line 1\\n', 'line 2\\n', 'line 3\\n']\n"
     ]
    }
   ],
   "source": [
    "# Read Lines Method \n",
    "\n",
    "with open (\"./abc.txt\", 'r') as file: #by default file mode is r and we can read\n",
    "    print(type(file))\n",
    "    print(file.readlines()[:3]) # Concept of Slicing , to see first few lines to read data structure"
   ]
  },
  {
   "cell_type": "code",
   "execution_count": 17,
   "metadata": {},
   "outputs": [
    {
     "name": "stdout",
     "output_type": "stream",
     "text": [
      "line 1\n",
      "line 2\n",
      "line 3\n",
      "line 4\n",
      "line 5\n",
      "\n"
     ]
    },
    {
     "ename": "UnsupportedOperation",
     "evalue": "not writable",
     "output_type": "error",
     "traceback": [
      "\u001b[1;31m---------------------------------------------------------------------------\u001b[0m",
      "\u001b[1;31mUnsupportedOperation\u001b[0m                      Traceback (most recent call last)",
      "Cell \u001b[1;32mIn[17], line 3\u001b[0m\n\u001b[0;32m      1\u001b[0m \u001b[38;5;28;01mwith\u001b[39;00m \u001b[38;5;28mopen\u001b[39m (\u001b[38;5;124m\"\u001b[39m\u001b[38;5;124m./abc.txt\u001b[39m\u001b[38;5;124m\"\u001b[39m, \u001b[38;5;124m'\u001b[39m\u001b[38;5;124mr\u001b[39m\u001b[38;5;124m'\u001b[39m) \u001b[38;5;28;01mas\u001b[39;00m file: \u001b[38;5;66;03m#by default file mode is r and we can read\u001b[39;00m\n\u001b[0;32m      2\u001b[0m     \u001b[38;5;28mprint\u001b[39m(file\u001b[38;5;241m.\u001b[39mread())\n\u001b[1;32m----> 3\u001b[0m     \u001b[38;5;28mprint\u001b[39m(\u001b[43mfile\u001b[49m\u001b[38;5;241;43m.\u001b[39;49m\u001b[43mwrite\u001b[49m\u001b[43m(\u001b[49m\u001b[38;5;124;43m\"\u001b[39;49m\u001b[38;5;124;43mPakistan\u001b[39;49m\u001b[38;5;124;43m\"\u001b[39;49m\u001b[43m)\u001b[49m)\n",
      "\u001b[1;31mUnsupportedOperation\u001b[0m: not writable"
     ]
    }
   ],
   "source": [
    "with open (\"./abc.txt\", 'r') as file: #by default file mode is r and we can read\n",
    "    print(file.read())\n",
    "    print(file.write(\"Pakistan\")) # How to handle error also we have to write in that so we have access modifiers that we can pass as a secogn argument"
   ]
  },
  {
   "cell_type": "code",
   "execution_count": 18,
   "metadata": {},
   "outputs": [
    {
     "ename": "UnsupportedOperation",
     "evalue": "not readable",
     "output_type": "error",
     "traceback": [
      "\u001b[1;31m---------------------------------------------------------------------------\u001b[0m",
      "\u001b[1;31mUnsupportedOperation\u001b[0m                      Traceback (most recent call last)",
      "Cell \u001b[1;32mIn[18], line 4\u001b[0m\n\u001b[0;32m      1\u001b[0m \u001b[38;5;66;03m# with w, w means write only\u001b[39;00m\n\u001b[0;32m      3\u001b[0m \u001b[38;5;28;01mwith\u001b[39;00m \u001b[38;5;28mopen\u001b[39m (\u001b[38;5;124m\"\u001b[39m\u001b[38;5;124m./abc.txt\u001b[39m\u001b[38;5;124m\"\u001b[39m, \u001b[38;5;124m'\u001b[39m\u001b[38;5;124mw\u001b[39m\u001b[38;5;124m'\u001b[39m) \u001b[38;5;28;01mas\u001b[39;00m file: \u001b[38;5;66;03m#Nowfile mode is w and we can write only, type Text I/O\u001b[39;00m\n\u001b[1;32m----> 4\u001b[0m     \u001b[38;5;28mprint\u001b[39m(\u001b[43mfile\u001b[49m\u001b[38;5;241;43m.\u001b[39;49m\u001b[43mread\u001b[49m\u001b[43m(\u001b[49m\u001b[43m)\u001b[49m)\n\u001b[0;32m      5\u001b[0m     \u001b[38;5;28mprint\u001b[39m(file\u001b[38;5;241m.\u001b[39mwrite(\u001b[38;5;124m\"\u001b[39m\u001b[38;5;124mPakistan\u001b[39m\u001b[38;5;124m\"\u001b[39m))\n",
      "\u001b[1;31mUnsupportedOperation\u001b[0m: not readable"
     ]
    }
   ],
   "source": [
    "# with w, w means write only\n",
    "\n",
    "with open (\"./abc.txt\", 'w') as file: #Nowfile mode is w and we can write only, type Text I/O\n",
    "    print(file.read())\n",
    "    print(file.write(\"Pakistan\"))"
   ]
  },
  {
   "cell_type": "code",
   "execution_count": 25,
   "metadata": {},
   "outputs": [],
   "source": [
    "# we can perform one operation at a time read or wrie\n",
    "\n",
    "with open(\"./abc.txt\", 'w') as file: \n",
    "    file.write(\"Pakistan\") # it removed all other text and added Pakistan"
   ]
  },
  {
   "cell_type": "code",
   "execution_count": 26,
   "metadata": {},
   "outputs": [
    {
     "name": "stdout",
     "output_type": "stream",
     "text": [
      "Pakistan\n"
     ]
    }
   ],
   "source": [
    "# to fix above issue of overwritng, we added it read and write \n",
    "\n",
    "with open (\"./abc.txt\", 'r+') as file:\n",
    "    print(file.read()) \n",
    "    file.write(\" and we love our Country!\")"
   ]
  },
  {
   "cell_type": "code",
   "execution_count": 28,
   "metadata": {},
   "outputs": [
    {
     "name": "stdout",
     "output_type": "stream",
     "text": [
      "Pakistan\n",
      "\n"
     ]
    }
   ],
   "source": [
    "# we want that after code is being written , it reads whole code, lofic for that will be , we have to bring our coursor at zero position\n",
    "\n",
    "with open (\"./abc.txt\", 'r+') as file:\n",
    "    print(file.read())\n",
    "   \n",
    "    file.write(\"and we love our Country!\")\n",
    "\n",
    "    print(\"After\",file.read()) "
   ]
  },
  {
   "cell_type": "code",
   "execution_count": 31,
   "metadata": {},
   "outputs": [
    {
     "name": "stdout",
     "output_type": "stream",
     "text": [
      "Pakistan\n",
      "After Pakistan and we love our Country!\n"
     ]
    }
   ],
   "source": [
    "# Complete Read write Operations will be performed together through this logic\n",
    "\n",
    "with open (\"./abc.txt\", 'r+') as file:\n",
    "    print(file.read())\n",
    "   \n",
    "    file.write(\" and we love our Country!\")\n",
    "    file.seek(0)  # can put index number where we want our cursor to be\n",
    "\n",
    "    print(\"After\",file.read()) "
   ]
  },
  {
   "cell_type": "markdown",
   "metadata": {},
   "source": [
    "## Now Changing Modes"
   ]
  },
  {
   "cell_type": "code",
   "execution_count": 32,
   "metadata": {},
   "outputs": [
    {
     "ename": "FileNotFoundError",
     "evalue": "[Errno 2] No such file or directory: './abc2.txt'",
     "output_type": "error",
     "traceback": [
      "\u001b[1;31m---------------------------------------------------------------------------\u001b[0m",
      "\u001b[1;31mFileNotFoundError\u001b[0m                         Traceback (most recent call last)",
      "Cell \u001b[1;32mIn[32], line 1\u001b[0m\n\u001b[1;32m----> 1\u001b[0m \u001b[38;5;28;01mwith\u001b[39;00m \u001b[38;5;28;43mopen\u001b[39;49m\u001b[43m \u001b[49m\u001b[43m(\u001b[49m\u001b[38;5;124;43m\"\u001b[39;49m\u001b[38;5;124;43m./abc2.txt\u001b[39;49m\u001b[38;5;124;43m\"\u001b[39;49m\u001b[43m,\u001b[49m\u001b[43m \u001b[49m\u001b[38;5;124;43m'\u001b[39;49m\u001b[38;5;124;43mr+\u001b[39;49m\u001b[38;5;124;43m'\u001b[39;49m\u001b[43m)\u001b[49m \u001b[38;5;28;01mas\u001b[39;00m file:\n\u001b[0;32m      2\u001b[0m     \u001b[38;5;28mprint\u001b[39m(file\u001b[38;5;241m.\u001b[39mread())\n",
      "File \u001b[1;32mc:\\Users\\Lenovo\\anaconda3\\envs\\python12\\Lib\\site-packages\\IPython\\core\\interactiveshell.py:324\u001b[0m, in \u001b[0;36m_modified_open\u001b[1;34m(file, *args, **kwargs)\u001b[0m\n\u001b[0;32m    317\u001b[0m \u001b[38;5;28;01mif\u001b[39;00m file \u001b[38;5;129;01min\u001b[39;00m {\u001b[38;5;241m0\u001b[39m, \u001b[38;5;241m1\u001b[39m, \u001b[38;5;241m2\u001b[39m}:\n\u001b[0;32m    318\u001b[0m     \u001b[38;5;28;01mraise\u001b[39;00m \u001b[38;5;167;01mValueError\u001b[39;00m(\n\u001b[0;32m    319\u001b[0m         \u001b[38;5;124mf\u001b[39m\u001b[38;5;124m\"\u001b[39m\u001b[38;5;124mIPython won\u001b[39m\u001b[38;5;124m'\u001b[39m\u001b[38;5;124mt let you open fd=\u001b[39m\u001b[38;5;132;01m{\u001b[39;00mfile\u001b[38;5;132;01m}\u001b[39;00m\u001b[38;5;124m by default \u001b[39m\u001b[38;5;124m\"\u001b[39m\n\u001b[0;32m    320\u001b[0m         \u001b[38;5;124m\"\u001b[39m\u001b[38;5;124mas it is likely to crash IPython. If you know what you are doing, \u001b[39m\u001b[38;5;124m\"\u001b[39m\n\u001b[0;32m    321\u001b[0m         \u001b[38;5;124m\"\u001b[39m\u001b[38;5;124myou can use builtins\u001b[39m\u001b[38;5;124m'\u001b[39m\u001b[38;5;124m open.\u001b[39m\u001b[38;5;124m\"\u001b[39m\n\u001b[0;32m    322\u001b[0m     )\n\u001b[1;32m--> 324\u001b[0m \u001b[38;5;28;01mreturn\u001b[39;00m \u001b[43mio_open\u001b[49m\u001b[43m(\u001b[49m\u001b[43mfile\u001b[49m\u001b[43m,\u001b[49m\u001b[43m \u001b[49m\u001b[38;5;241;43m*\u001b[39;49m\u001b[43margs\u001b[49m\u001b[43m,\u001b[49m\u001b[43m \u001b[49m\u001b[38;5;241;43m*\u001b[39;49m\u001b[38;5;241;43m*\u001b[39;49m\u001b[43mkwargs\u001b[49m\u001b[43m)\u001b[49m\n",
      "\u001b[1;31mFileNotFoundError\u001b[0m: [Errno 2] No such file or directory: './abc2.txt'"
     ]
    }
   ],
   "source": [
    "with open (\"./abc2.txt\", 'r+') as file:\n",
    "    print(file.read()) # Shows error as no abc2 exists"
   ]
  },
  {
   "cell_type": "code",
   "execution_count": 34,
   "metadata": {},
   "outputs": [],
   "source": [
    "with open (\"./abc2.txt\", 'w') as file: # changed mode to w, if file is available it overwrite, if not it creates a file\n",
    "    #print(file.read())\n",
    "    file.write(\"Pakistan\") # new file with abc2 is created "
   ]
  },
  {
   "cell_type": "code",
   "execution_count": 35,
   "metadata": {},
   "outputs": [],
   "source": [
    "# Append mode also do the same, if file is not there. it removes and over write data above and aonly new text remains\n",
    "\n",
    "with open (\"./abc3.txt\", 'a') as file: # \n",
    "    #print(file.read())\n",
    "    file.write(\"Pakistan\") # now if we run above code it cleared all written text and over wirte with Pakistan, which is pretty dangerous\n",
    "\n",
    "    # append mode created a new file"
   ]
  },
  {
   "cell_type": "code",
   "execution_count": 37,
   "metadata": {},
   "outputs": [],
   "source": [
    "with open (\"./abc3.txt\", 'a') as file: # \n",
    "    #print(file.read()) \n",
    "    file.write(\" we love our country!\") # now it adds code at the end 👍 and file.write text can be keep on overwrite , add content in last"
   ]
  },
  {
   "cell_type": "code",
   "execution_count": 38,
   "metadata": {},
   "outputs": [],
   "source": [
    "# 'x' mode creates new ode if not exist, but also generates error if try to to re run \n",
    "\n",
    "with open (\"./abc4.txt\", 'x') as file: # \n",
    "    #print(file.read()) \n",
    "    file.write(\" Line 3!\")"
   ]
  },
  {
   "cell_type": "code",
   "execution_count": 39,
   "metadata": {},
   "outputs": [
    {
     "ename": "FileExistsError",
     "evalue": "[Errno 17] File exists: './abc4.txt'",
     "output_type": "error",
     "traceback": [
      "\u001b[1;31m---------------------------------------------------------------------------\u001b[0m",
      "\u001b[1;31mFileExistsError\u001b[0m                           Traceback (most recent call last)",
      "Cell \u001b[1;32mIn[39], line 1\u001b[0m\n\u001b[1;32m----> 1\u001b[0m \u001b[38;5;28;01mwith\u001b[39;00m \u001b[38;5;28;43mopen\u001b[39;49m\u001b[43m \u001b[49m\u001b[43m(\u001b[49m\u001b[38;5;124;43m\"\u001b[39;49m\u001b[38;5;124;43m./abc4.txt\u001b[39;49m\u001b[38;5;124;43m\"\u001b[39;49m\u001b[43m,\u001b[49m\u001b[43m \u001b[49m\u001b[38;5;124;43m'\u001b[39;49m\u001b[38;5;124;43mx\u001b[39;49m\u001b[38;5;124;43m'\u001b[39;49m\u001b[43m)\u001b[49m \u001b[38;5;28;01mas\u001b[39;00m file: \u001b[38;5;66;03m# \u001b[39;00m\n\u001b[0;32m      2\u001b[0m     \u001b[38;5;66;03m#print(file.read()) \u001b[39;00m\n\u001b[0;32m      3\u001b[0m     file\u001b[38;5;241m.\u001b[39mwrite(\u001b[38;5;124m\"\u001b[39m\u001b[38;5;124m Line 3!\u001b[39m\u001b[38;5;124m\"\u001b[39m)\n",
      "File \u001b[1;32mc:\\Users\\Lenovo\\anaconda3\\envs\\python12\\Lib\\site-packages\\IPython\\core\\interactiveshell.py:324\u001b[0m, in \u001b[0;36m_modified_open\u001b[1;34m(file, *args, **kwargs)\u001b[0m\n\u001b[0;32m    317\u001b[0m \u001b[38;5;28;01mif\u001b[39;00m file \u001b[38;5;129;01min\u001b[39;00m {\u001b[38;5;241m0\u001b[39m, \u001b[38;5;241m1\u001b[39m, \u001b[38;5;241m2\u001b[39m}:\n\u001b[0;32m    318\u001b[0m     \u001b[38;5;28;01mraise\u001b[39;00m \u001b[38;5;167;01mValueError\u001b[39;00m(\n\u001b[0;32m    319\u001b[0m         \u001b[38;5;124mf\u001b[39m\u001b[38;5;124m\"\u001b[39m\u001b[38;5;124mIPython won\u001b[39m\u001b[38;5;124m'\u001b[39m\u001b[38;5;124mt let you open fd=\u001b[39m\u001b[38;5;132;01m{\u001b[39;00mfile\u001b[38;5;132;01m}\u001b[39;00m\u001b[38;5;124m by default \u001b[39m\u001b[38;5;124m\"\u001b[39m\n\u001b[0;32m    320\u001b[0m         \u001b[38;5;124m\"\u001b[39m\u001b[38;5;124mas it is likely to crash IPython. If you know what you are doing, \u001b[39m\u001b[38;5;124m\"\u001b[39m\n\u001b[0;32m    321\u001b[0m         \u001b[38;5;124m\"\u001b[39m\u001b[38;5;124myou can use builtins\u001b[39m\u001b[38;5;124m'\u001b[39m\u001b[38;5;124m open.\u001b[39m\u001b[38;5;124m\"\u001b[39m\n\u001b[0;32m    322\u001b[0m     )\n\u001b[1;32m--> 324\u001b[0m \u001b[38;5;28;01mreturn\u001b[39;00m \u001b[43mio_open\u001b[49m\u001b[43m(\u001b[49m\u001b[43mfile\u001b[49m\u001b[43m,\u001b[49m\u001b[43m \u001b[49m\u001b[38;5;241;43m*\u001b[39;49m\u001b[43margs\u001b[49m\u001b[43m,\u001b[49m\u001b[43m \u001b[49m\u001b[38;5;241;43m*\u001b[39;49m\u001b[38;5;241;43m*\u001b[39;49m\u001b[43mkwargs\u001b[49m\u001b[43m)\u001b[49m\n",
      "\u001b[1;31mFileExistsError\u001b[0m: [Errno 17] File exists: './abc4.txt'"
     ]
    }
   ],
   "source": [
    "with open (\"./abc4.txt\", 'x') as file: # \n",
    "    #print(file.read()) \n",
    "    file.write(\" Line 3!\") # Error Generated"
   ]
  },
  {
   "cell_type": "code",
   "execution_count": 41,
   "metadata": {},
   "outputs": [
    {
     "name": "stdout",
     "output_type": "stream",
     "text": [
      "b' Line 3!'\n"
     ]
    }
   ],
   "source": [
    "# rb+ means reads in binary mode\n",
    "\n",
    "with open (\"./abc4.txt\", 'rb+') as file: # \n",
    "    print(file.read())  # text is being printed in binary form\n",
    "    #file.write(\" Line 3!\")"
   ]
  },
  {
   "cell_type": "markdown",
   "metadata": {},
   "source": [
    "# put that table here in markdown"
   ]
  },
  {
   "cell_type": "markdown",
   "metadata": {},
   "source": [
    "## Read Some Real world data Files\n",
    "\n",
    "* image\n",
    "* csv\n",
    "* live Camera (for Input)\n",
    "\n",
    "we have images, text, csv files and have to read all those files data as well  "
   ]
  },
  {
   "cell_type": "code",
   "execution_count": 42,
   "metadata": {},
   "outputs": [
    {
     "data": {
      "text/html": [
       "<div>\n",
       "<style scoped>\n",
       "    .dataframe tbody tr th:only-of-type {\n",
       "        vertical-align: middle;\n",
       "    }\n",
       "\n",
       "    .dataframe tbody tr th {\n",
       "        vertical-align: top;\n",
       "    }\n",
       "\n",
       "    .dataframe thead th {\n",
       "        text-align: right;\n",
       "    }\n",
       "</style>\n",
       "<table border=\"1\" class=\"dataframe\">\n",
       "  <thead>\n",
       "    <tr style=\"text-align: right;\">\n",
       "      <th></th>\n",
       "      <th>id</th>\n",
       "      <th>name</th>\n",
       "      <th>education</th>\n",
       "    </tr>\n",
       "  </thead>\n",
       "  <tbody>\n",
       "    <tr>\n",
       "      <th>0</th>\n",
       "      <td>1</td>\n",
       "      <td>Amcucm</td>\n",
       "      <td>MS</td>\n",
       "    </tr>\n",
       "    <tr>\n",
       "      <th>1</th>\n",
       "      <td>2</td>\n",
       "      <td>MK</td>\n",
       "      <td>MS</td>\n",
       "    </tr>\n",
       "    <tr>\n",
       "      <th>2</th>\n",
       "      <td>3</td>\n",
       "      <td>CK</td>\n",
       "      <td>MS</td>\n",
       "    </tr>\n",
       "  </tbody>\n",
       "</table>\n",
       "</div>"
      ],
      "text/plain": [
       "   id    name  education\n",
       "0   1  Amcucm         MS\n",
       "1   2      MK         MS\n",
       "2   3      CK         MS"
      ]
     },
     "execution_count": 42,
     "metadata": {},
     "output_type": "execute_result"
    }
   ],
   "source": [
    "# for handling tabular data (html tables , markdown) , pandas is a powerful tool to handle tabular data\n",
    "# Will start by making a csv file\n",
    "# to read tabular data, import pandas \n",
    "\n",
    "import pandas as pd\n",
    "\n",
    "df : pd.DataFrame = pd.read_csv(\"./data.csv\") # df short name of variable, data type will be pd.DataFrame which is class with pd.read and its path\n",
    "df # run and can see in tabular form below\n",
    "\n",
    "\n"
   ]
  },
  {
   "cell_type": "code",
   "execution_count": 44,
   "metadata": {},
   "outputs": [
    {
     "name": "stderr",
     "output_type": "stream",
     "text": [
      "WARNING: Retrying (Retry(total=4, connect=None, read=None, redirect=None, status=None)) after connection broken by 'NewConnectionError('<pip._vendor.urllib3.connection.HTTPSConnection object at 0x00000291F6595EE0>: Failed to establish a new connection: [Errno 11001] getaddrinfo failed')': /simple/openpyxl/\n",
      "WARNING: Retrying (Retry(total=3, connect=None, read=None, redirect=None, status=None)) after connection broken by 'NewConnectionError('<pip._vendor.urllib3.connection.HTTPSConnection object at 0x00000291F7C2B1A0>: Failed to establish a new connection: [Errno 11001] getaddrinfo failed')': /simple/openpyxl/\n",
      "WARNING: Retrying (Retry(total=2, connect=None, read=None, redirect=None, status=None)) after connection broken by 'NewConnectionError('<pip._vendor.urllib3.connection.HTTPSConnection object at 0x00000291F7FB7830>: Failed to establish a new connection: [Errno 11001] getaddrinfo failed')': /simple/openpyxl/\n",
      "WARNING: Retrying (Retry(total=1, connect=None, read=None, redirect=None, status=None)) after connection broken by 'NewConnectionError('<pip._vendor.urllib3.connection.HTTPSConnection object at 0x00000291F7FB7A40>: Failed to establish a new connection: [Errno 11001] getaddrinfo failed')': /simple/openpyxl/\n",
      "WARNING: Retrying (Retry(total=0, connect=None, read=None, redirect=None, status=None)) after connection broken by 'NewConnectionError('<pip._vendor.urllib3.connection.HTTPSConnection object at 0x00000291F7FB7BF0>: Failed to establish a new connection: [Errno 11001] getaddrinfo failed')': /simple/openpyxl/\n",
      "ERROR: Could not find a version that satisfies the requirement openpyxl (from versions: none)\n",
      "ERROR: No matching distribution found for openpyxl\n"
     ]
    }
   ],
   "source": [
    "# Can be done with Excel file as well, make an excel file with just changing function name \n",
    "# Also Install pandas dependency for excel \n",
    " \n",
    "!pip install openpyxl\n",
    "\n",
    "\n"
   ]
  },
  {
   "cell_type": "code",
   "execution_count": null,
   "metadata": {},
   "outputs": [],
   "source": [
    "import pandas as pd\n",
    "\n",
    "df : pd.DataFrame = pd.read_excel(\"./data.xlsx\") # excel file will also read that way"
   ]
  },
  {
   "cell_type": "markdown",
   "metadata": {},
   "source": [
    "### Images\n"
   ]
  },
  {
   "cell_type": "code",
   "execution_count": null,
   "metadata": {},
   "outputs": [],
   "source": [
    "# Install\n",
    "\n",
    "!pip install matplotlib "
   ]
  },
  {
   "cell_type": "code",
   "execution_count": null,
   "metadata": {},
   "outputs": [],
   "source": [
    "import matplotlib.pyplot as plt \n",
    "import matplotlib.image as mpimg\n",
    "\n",
    "img = mpimg.imread(\"File name\") # read and convert to numpy array\n",
    "#img # it returns in number, as in computing world everything is data came in numpy , we wan to visulize \n",
    "plt.imshow(img) # displays in image form\n"
   ]
  },
  {
   "cell_type": "code",
   "execution_count": null,
   "metadata": {},
   "outputs": [],
   "source": [
    "# read pdf file with python static type\n",
    "# make a pdf, put in file 12\n",
    "# install package\n",
    "\n",
    "!pip install pyPDF2\n",
    "\n"
   ]
  },
  {
   "cell_type": "code",
   "execution_count": null,
   "metadata": {},
   "outputs": [],
   "source": [
    "# copy that code here from chatGpt\n",
    "\n",
    "\n",
    "\n",
    "\n",
    "pages = read_pdf(\"./mypdf.pdf\")\n",
    "pages"
   ]
  },
  {
   "cell_type": "code",
   "execution_count": null,
   "metadata": {},
   "outputs": [],
   "source": [
    "# Moving forward using advanced packages we will be handling this all kind of data as a DS we have to shift on it to work efficiently\n",
    "# Pandas\n",
    "# Open AI or Pandas AI\n",
    "# Before if when we merge Gen Ai with web 3, read , write, generate and own\n",
    "# Pandas is a excel spread sheet,, what it does microsoft said to incorporate pandas in excel and Open source have made Pandas AI\n",
    "# Pandas AI: talking numbers, will be chatgpt of Numbers, likewise in everyfield"
   ]
  },
  {
   "cell_type": "markdown",
   "metadata": {},
   "source": [
    "### Audio File"
   ]
  },
  {
   "cell_type": "code",
   "execution_count": null,
   "metadata": {},
   "outputs": [],
   "source": [
    "# Analysis on audio file\n",
    "\n",
    "import matplotlib.pyplot as plt\n",
    "import numpy as np # means stnadard \n",
    "import wave\n",
    "import sys\n",
    "\n",
    "audion_file = wave.open(\"./ put link here \")\n",
    "\n",
    "signals = audio_file.readframes(-1)\n",
    "signals = np.frombuffer(signals, dtype = np.int16) # importing from numpy Alias\n",
    "\n",
    "plt.figure(1)\n",
    "plt.title(\"Signals waves...\")\n",
    "plt.plot(signals)\n",
    "plt.show"
   ]
  }
 ],
 "metadata": {
  "kernelspec": {
   "display_name": "python12",
   "language": "python",
   "name": "python3"
  },
  "language_info": {
   "codemirror_mode": {
    "name": "ipython",
    "version": 3
   },
   "file_extension": ".py",
   "mimetype": "text/x-python",
   "name": "python",
   "nbconvert_exporter": "python",
   "pygments_lexer": "ipython3",
   "version": "3.12.0"
  }
 },
 "nbformat": 4,
 "nbformat_minor": 2
}
