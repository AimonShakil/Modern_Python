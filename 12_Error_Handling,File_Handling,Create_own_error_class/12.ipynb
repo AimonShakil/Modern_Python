{
 "cells": [
  {
   "cell_type": "code",
   "execution_count": null,
   "metadata": {},
   "outputs": [],
   "source": [
    "print(\"logic 1\")\n",
    "print(\"Logic 2\")\n",
    "\n",
    "li : list[int] =[1, 2, 3]\n",
    "\n",
    "try:\n",
    "    print(5/2)# Logic Code  ERROR, as error occured here it directly moved to line of except ecluding \n",
    "    print(li[0])\n",
    "    print(xyz) # Error here\n",
    "\n",
    "except(ZeroDivisionError, IndexError, NameError ): # error name without quotation, when handled did't got error\n",
    "   print(\"ZeroDivsion Error\")\n",
    "\n",
    "print(\"logic4\")\n",
    "print(\"logic5\")"
   ]
  },
  {
   "cell_type": "markdown",
   "metadata": {},
   "source": [
    "### Handling Individual Errors & Multiple Excepts\n"
   ]
  },
  {
   "cell_type": "code",
   "execution_count": 1,
   "metadata": {},
   "outputs": [
    {
     "name": "stdout",
     "output_type": "stream",
     "text": [
      "logic 1\n",
      "Logic 2\n",
      "2.5\n",
      "1\n",
      "NameError\n",
      "logic4\n",
      "logic5\n"
     ]
    }
   ],
   "source": [
    "# In example above, in except block all error are mentioned but even if error occured in first line it omit other Class Errors \n",
    "# how to solve that:\n",
    "\n",
    "print(\"logic 1\")\n",
    "print(\"Logic 2\")\n",
    "\n",
    "li : list[int] =[1, 2, 3]\n",
    "\n",
    "try:\n",
    "    print(5/2)\n",
    "    print(li[0])\n",
    "    print(xyz) # Error here\n",
    "\n",
    "except (ZeroDivisionError): \n",
    "   print(\"ZeroDivsion Error\")\n",
    "except (IndexError):\n",
    "    print(\"Index Error\")\n",
    "except (NameError):\n",
    "    print(\"NameError\")\n",
    "\n",
    "except: # any other error class is being accepted and error will be displayed\n",
    "     print(\" Some error occured!\")\n",
    "\n",
    "print(\"logic4\")\n",
    "print(\"logic5\")"
   ]
  },
  {
   "cell_type": "code",
   "execution_count": 3,
   "metadata": {},
   "outputs": [
    {
     "name": "stdout",
     "output_type": "stream",
     "text": [
      "logic 1\n",
      "Logic 2\n",
      "2.5\n",
      "1\n",
      "Some error occured!\n",
      "[Errno 2] No such file or directory: 'aa.txt'\n",
      "logic4\n",
      "logic5\n"
     ]
    }
   ],
   "source": [
    "# Handling Error with a Dynamic Message of Error\n",
    "\n",
    "print(\"logic 1\")\n",
    "print(\"Logic 2\")\n",
    "\n",
    "li : list[int] =[1, 2, 3]\n",
    "\n",
    "try:\n",
    "    print(5/2)\n",
    "    print(li[0])\n",
    "    # print(xyz) # Error here\n",
    "    open(\"aa.txt\")\n",
    "\n",
    "except (ZeroDivisionError): \n",
    "   print(\"ZeroDivsion Error\")\n",
    "except (IndexError):\n",
    "    print(\"Index Error\")\n",
    "except (NameError):\n",
    "    print(\"NameError\")\n",
    "\n",
    "except Exception as e:\n",
    "     print(f\"Some error occured!\\n{e}\") # Also Shows error\n",
    "\n",
    "print(\"logic4\")\n",
    "print(\"logic5\")"
   ]
  },
  {
   "cell_type": "code",
   "execution_count": null,
   "metadata": {},
   "outputs": [],
   "source": [
    "# Making Classes Using Object Oriented Programming and take some Parameters"
   ]
  },
  {
   "cell_type": "markdown",
   "metadata": {},
   "source": [
    "## Student / Card Management System \n",
    "* Age allowed is 18-60 years old "
   ]
  },
  {
   "cell_type": "code",
   "execution_count": 11,
   "metadata": {},
   "outputs": [
    {
     "name": "stdout",
     "output_type": "stream",
     "text": [
      "Am Cucm 1 30\n"
     ]
    }
   ],
   "source": [
    "class StudentCard():\n",
    "    def __init__(self, roll_no :int, name: str, age: int) -> None: # we can have different attributes when we call it\n",
    "    # Making simple rule: whenerver we make this class object or Instance at that time we have to pass age must\n",
    "    # and givig these 3 params are imp and wheever we generate an error what we will be doing  \n",
    "\n",
    "        if age < 18 or age > 60: # less than 18 and more than 60 we want to generate an error, so we have to make an \"Custom error class\" and then will display \n",
    "            raise StudentAgeError(\" You are not Eliglble for this program\")\n",
    "        self.roll_no = roll_no\n",
    "        self.name = name\n",
    "        self.age = age\n",
    "\n",
    "class StudentAgeError(Exception):    #Custom Error Class:  deriving from exception class this is parent Class \n",
    "    pass # pass means its just raising we are not writing in anything\n",
    "\n",
    "student1 = StudentCard(1, \"Am Cucm\", 30)  # Class object of student Card\n",
    "print(student1.name, student1.roll_no, student1.age) \n"
   ]
  },
  {
   "cell_type": "code",
   "execution_count": 12,
   "metadata": {},
   "outputs": [
    {
     "ename": "StudentAgeError",
     "evalue": " You are not Eliglble for this program",
     "output_type": "error",
     "traceback": [
      "\u001b[1;31m---------------------------------------------------------------------------\u001b[0m",
      "\u001b[1;31mStudentAgeError\u001b[0m                           Traceback (most recent call last)",
      "Cell \u001b[1;32mIn[12], line 4\u001b[0m\n\u001b[0;32m      1\u001b[0m \u001b[38;5;66;03m# Takin this cod and try to enroll another student\u001b[39;00m\n\u001b[1;32m----> 4\u001b[0m student1 \u001b[38;5;241m=\u001b[39m \u001b[43mStudentCard\u001b[49m\u001b[43m(\u001b[49m\u001b[38;5;241;43m1\u001b[39;49m\u001b[43m,\u001b[49m\u001b[43m \u001b[49m\u001b[38;5;124;43m\"\u001b[39;49m\u001b[38;5;124;43mAm Cucm\u001b[39;49m\u001b[38;5;124;43m\"\u001b[39;49m\u001b[43m,\u001b[49m\u001b[43m \u001b[49m\u001b[38;5;241;43m61\u001b[39;49m\u001b[43m)\u001b[49m  \u001b[38;5;66;03m# Class object of student Card\u001b[39;00m\n\u001b[0;32m      5\u001b[0m \u001b[38;5;28mprint\u001b[39m(student1\u001b[38;5;241m.\u001b[39mname, student1\u001b[38;5;241m.\u001b[39mroll_no, student1\u001b[38;5;241m.\u001b[39mage) \n",
      "Cell \u001b[1;32mIn[11], line 7\u001b[0m, in \u001b[0;36mStudentCard.__init__\u001b[1;34m(self, roll_no, name, age)\u001b[0m\n\u001b[0;32m      2\u001b[0m \u001b[38;5;28;01mdef\u001b[39;00m \u001b[38;5;21m__init__\u001b[39m(\u001b[38;5;28mself\u001b[39m, roll_no :\u001b[38;5;28mint\u001b[39m, name: \u001b[38;5;28mstr\u001b[39m, age: \u001b[38;5;28mint\u001b[39m) \u001b[38;5;241m-\u001b[39m\u001b[38;5;241m>\u001b[39m \u001b[38;5;28;01mNone\u001b[39;00m: \u001b[38;5;66;03m# we can have different attributes when we call it\u001b[39;00m\n\u001b[0;32m      3\u001b[0m \u001b[38;5;66;03m# Making simple rule: whenerver we make this class object or Instance at that time we have to pass age must\u001b[39;00m\n\u001b[0;32m      4\u001b[0m \u001b[38;5;66;03m# and givig these 3 params are imp and wheever we generate an error what we will be doing  \u001b[39;00m\n\u001b[0;32m      6\u001b[0m     \u001b[38;5;28;01mif\u001b[39;00m age \u001b[38;5;241m<\u001b[39m \u001b[38;5;241m18\u001b[39m \u001b[38;5;129;01mor\u001b[39;00m age \u001b[38;5;241m>\u001b[39m \u001b[38;5;241m60\u001b[39m: \u001b[38;5;66;03m# less than 18 and more than 60 we want to generate an error, so we have to make an \"Custom error class\" and then will display \u001b[39;00m\n\u001b[1;32m----> 7\u001b[0m         \u001b[38;5;28;01mraise\u001b[39;00m StudentAgeError(\u001b[38;5;124m\"\u001b[39m\u001b[38;5;124m You are not Eliglble for this program\u001b[39m\u001b[38;5;124m\"\u001b[39m)\n\u001b[0;32m      8\u001b[0m     \u001b[38;5;28mself\u001b[39m\u001b[38;5;241m.\u001b[39mroll_no \u001b[38;5;241m=\u001b[39m roll_no\n\u001b[0;32m      9\u001b[0m     \u001b[38;5;28mself\u001b[39m\u001b[38;5;241m.\u001b[39mname \u001b[38;5;241m=\u001b[39m name\n",
      "\u001b[1;31mStudentAgeError\u001b[0m:  You are not Eliglble for this program"
     ]
    }
   ],
   "source": [
    "# Takin this cod and try to enroll another student\n",
    "\n",
    "\n",
    "student1 = StudentCard(1, \"Am Cucm\", 61)  # Class object of student Card\n",
    "print(student1.name, student1.roll_no, student1.age) # our Custom error will raise"
   ]
  },
  {
   "cell_type": "markdown",
   "metadata": {},
   "source": [
    "# File Handling"
   ]
  }
 ],
 "metadata": {
  "kernelspec": {
   "display_name": "python12",
   "language": "python",
   "name": "python3"
  },
  "language_info": {
   "codemirror_mode": {
    "name": "ipython",
    "version": 3
   },
   "file_extension": ".py",
   "mimetype": "text/x-python",
   "name": "python",
   "nbconvert_exporter": "python",
   "pygments_lexer": "ipython3",
   "version": "3.12.0"
  }
 },
 "nbformat": 4,
 "nbformat_minor": 2
}
