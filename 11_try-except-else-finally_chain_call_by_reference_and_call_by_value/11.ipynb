{
 "cells": [
  {
   "cell_type": "markdown",
   "metadata": {},
   "source": [
    "### Mutable and Immutable Types"
   ]
  },
  {
   "cell_type": "code",
   "execution_count": null,
   "metadata": {},
   "outputs": [],
   "source": [
    "list_a : list[int] = [1, 2, 3]\n",
    "list_b = list_a\n",
    "list_a.append(4)\n",
    "print(\"list_b:\" list_b) # output : list_b: [1, 2, 3, 4]"
   ]
  },
  {
   "cell_type": "markdown",
   "metadata": {},
   "source": [
    "# Addressing Changes without Function Calls"
   ]
  },
  {
   "cell_type": "code",
   "execution_count": 1,
   "metadata": {},
   "outputs": [
    {
     "name": "stdout",
     "output_type": "stream",
     "text": [
      " Before modification: 10 140707353152216\n",
      " After modification: 11 140707353152248\n"
     ]
    }
   ],
   "source": [
    "x = 10 \n",
    "print(\" Before modification:\", x, id(x))\n",
    "x += 1\n",
    "print(\" After modification:\", x, id(x))"
   ]
  },
  {
   "cell_type": "markdown",
   "metadata": {},
   "source": [
    "# Understanding Pass-by-Value Vs. Pass-by-Reference  and Mutable vs.Immutable"
   ]
  },
  {
   "cell_type": "markdown",
   "metadata": {},
   "source": [
    "### In Methods immutable and mutable acts different, immutable sends copy\n",
    "* There are two methods to pass values to any function;\n",
    "    * By Reference\n",
    "        * Mutable DT can be changed (list, set, dictionary & Class Object ) pass by refernce which can change, changes takes place in both Objects in local and Global scope as   well   \n",
    "    * By value\n",
    "        * Immutable DT that cannot be changed are (str, Int, float, bool & Tuple) pass by Value like Int means it will make a copy and pass and changes will only perform in local scope of variable that is num1"
   ]
  },
  {
   "cell_type": "code",
   "execution_count": 8,
   "metadata": {},
   "outputs": [
    {
     "name": "stdout",
     "output_type": "stream",
     "text": [
      "First assigned value of Variable is 140707353152056\n",
      "Value at Start of Function5 address 140707353152056\n",
      "Value at end of Function 6 address 140707353152088\n",
      "At end of Program variable value is 5 address of a 140707353152056\n"
     ]
    }
   ],
   "source": [
    "# Pass By Value, with Immutable DT\n",
    "# Rule: As int is immutable and we pass a copy, copy of int a and will be place in num1 and address of A will be different \n",
    "# and when we changed num1 it becomes 6 and Original variable value has not been affected \n",
    "\n",
    "a : int = 5 \n",
    "\n",
    "print(f\"First assigned value of Variable is {id(a)}\")\n",
    "\n",
    "def abc(num1: int)->None:\n",
    "\n",
    "    print(f\"Value at Start of Function{num1} address {id(num1)}\")\n",
    "    num1 =6\n",
    "    print(f\"Value at end of Function {num1} address {id(num1)}\")\n",
    "abc(a) # pass by value immutable\n",
    "\n",
    "print(f\"At end of Program variable value is {a} address of a {id(a)}\")"
   ]
  },
  {
   "cell_type": "code",
   "execution_count": 10,
   "metadata": {},
   "outputs": [
    {
     "name": "stdout",
     "output_type": "stream",
     "text": [
      "X value is 7 and X address 140707353152120\n",
      "X value is 7 and X address 140707353152120\n",
      "X value is 200 and X address 140707353158296\n"
     ]
    }
   ],
   "source": [
    "# Example 2\n",
    "x : int = 7\n",
    "\n",
    "b: int = 7\n",
    "\n",
    "\n",
    "b = x # in python everything is Object and x is = 7 so address of 7 will come\n",
    "print(f\"X value is {x} and X address {id(x)}\")\n",
    "print(f\"X value is {b} and X address {id(b)}\")\n",
    "\n",
    "b = 200 # update then it will change\n",
    "print(f\"X value is {b} and X address {id(b)}\")\n",
    "\n",
    "\n",
    "\n",
    "\n"
   ]
  },
  {
   "cell_type": "code",
   "execution_count": 13,
   "metadata": {},
   "outputs": [
    {
     "name": "stdout",
     "output_type": "stream",
     "text": [
      "{1614769418112}\n",
      " Printed num 1 : [1, 2, 3, 4, 200] and address is 1614769418112\n",
      "[1, 2, 3, 4, 200] {1614769418112}\n"
     ]
    }
   ],
   "source": [
    "# Pass by Refernce, passes mutable DT\n",
    "\n",
    "a : list[int] = [1, 2, 3, 4] # made a list and passed it to function abc \n",
    "print({id(a)})\n",
    "\n",
    "def abc(num1: list[int])->None:\n",
    "    num1.append(200) # Updating a new value\n",
    "    print(f\" Printed num 1 : {num1} and address is {id(num1)}\")\n",
    "\n",
    "abc(a)\n",
    "print(a, {id(a)}) # printed same, because here passed by refernce and as list is immutable list has been passed"
   ]
  },
  {
   "cell_type": "code",
   "execution_count": null,
   "metadata": {},
   "outputs": [],
   "source": [
    "a : list[int] = [1, 2, 3, 4]\n",
    "\n",
    "def abc(num1: list[int])->None:\n",
    "    num1 = [7]# Reassign list varaiable --> Created new Object\n",
    "    num1.append(200) # Updating a new value\n",
    "    print(f\" Printed num 1 : {num1}\")\n",
    "\n",
    "abc(a)\n",
    "print(a) # printed same, becausehere passed by refernce and as list is immutable list has been passed"
   ]
  },
  {
   "cell_type": "markdown",
   "metadata": {},
   "source": [
    "# Handle Run Time Error\n",
    "* to Avoid system crash\n",
    "\n",
    "```\n",
    "try: \n",
    "    logic(exm where taking inout from user and chances of wromg input from user are there)\n",
    "except(Error_class1, Error_class2): # by directly putting error class we can handle errors\n",
    "    if error occured run this Block\n",
    "else: \n",
    "    if error not occured \n",
    "finally:\n",
    "    always run\n",
    "```"
   ]
  },
  {
   "cell_type": "code",
   "execution_count": 14,
   "metadata": {},
   "outputs": [
    {
     "name": "stdout",
     "output_type": "stream",
     "text": [
      "logic 1\n",
      "Logic 2\n",
      " Zero Divsion Error!\n",
      "logic4\n",
      "logic5\n"
     ]
    }
   ],
   "source": [
    "print(\"logic 1\")\n",
    "print(\"Logic 2\")\n",
    "\n",
    "try:\n",
    "    print(7/0)# Logic Code  ERROR\n",
    "except(ZeroDivisionError): # error name without quotation\n",
    "    print(\" Zero Divsion Error!\")\n",
    "\n",
    "print(\"logic4\")\n",
    "print(\"logic5\")"
   ]
  },
  {
   "cell_type": "code",
   "execution_count": 15,
   "metadata": {},
   "outputs": [
    {
     "name": "stdout",
     "output_type": "stream",
     "text": [
      "logic 1\n",
      "Logic 2\n",
      "logic4\n",
      "logic5\n"
     ]
    }
   ],
   "source": [
    "# Can use pass so, user dont get to know\n",
    "\n",
    "print(\"logic 1\")\n",
    "print(\"Logic 2\")\n",
    "\n",
    "try:\n",
    "    print(7/0)# Logic Code  ERROR\n",
    "except(ZeroDivisionError): # error name without quotation\n",
    "   pass # but preferably displaying error is necessary so that user get to know\n",
    "\n",
    "print(\"logic4\")\n",
    "print(\"logic5\")"
   ]
  },
  {
   "cell_type": "code",
   "execution_count": 19,
   "metadata": {},
   "outputs": [
    {
     "ename": "IndexError",
     "evalue": "list index out of range",
     "output_type": "error",
     "traceback": [
      "\u001b[1;31m---------------------------------------------------------------------------\u001b[0m",
      "\u001b[1;31mIndexError\u001b[0m                                Traceback (most recent call last)",
      "Cell \u001b[1;32mIn[19], line 2\u001b[0m\n\u001b[0;32m      1\u001b[0m li : \u001b[38;5;28mlist\u001b[39m[\u001b[38;5;28mint\u001b[39m] \u001b[38;5;241m=\u001b[39m[\u001b[38;5;241m1\u001b[39m, \u001b[38;5;241m2\u001b[39m, \u001b[38;5;241m3\u001b[39m]\n\u001b[1;32m----> 2\u001b[0m \u001b[38;5;28mprint\u001b[39m(\u001b[43mli\u001b[49m\u001b[43m[\u001b[49m\u001b[38;5;241;43m200\u001b[39;49m\u001b[43m]\u001b[49m)\n",
      "\u001b[1;31mIndexError\u001b[0m: list index out of range"
     ]
    }
   ],
   "source": [
    "li : list[int] =[1, 2, 3]\n",
    "print(li[200])\n"
   ]
  },
  {
   "cell_type": "code",
   "execution_count": 20,
   "metadata": {},
   "outputs": [
    {
     "name": "stdout",
     "output_type": "stream",
     "text": [
      "logic 1\n",
      "Logic 2\n",
      "ZeroDivsion Error\n",
      "logic4\n",
      "logic5\n"
     ]
    }
   ],
   "source": [
    "print(\"logic 1\")\n",
    "print(\"Logic 2\")\n",
    "\n",
    "li : list[int] =[1, 2, 3]\n",
    "\n",
    "try:\n",
    "    print(7/0)# Logic Code  ERROR, as error occured here it directly moved to line of except ecluding \n",
    "    print(li[0])\n",
    "    print(xyz)\n",
    "\n",
    "except(ZeroDivisionError, IndexError ): # error name without quotation\n",
    "   print(\"ZeroDivsion Error\")\n",
    "\n",
    "print(\"logic4\")\n",
    "print(\"logic5\")"
   ]
  },
  {
   "cell_type": "code",
   "execution_count": 21,
   "metadata": {},
   "outputs": [
    {
     "name": "stdout",
     "output_type": "stream",
     "text": [
      "logic 1\n",
      "Logic 2\n",
      "2.5\n",
      "1\n"
     ]
    },
    {
     "ename": "NameError",
     "evalue": "name 'xyz' is not defined",
     "output_type": "error",
     "traceback": [
      "\u001b[1;31m---------------------------------------------------------------------------\u001b[0m",
      "\u001b[1;31mNameError\u001b[0m                                 Traceback (most recent call last)",
      "Cell \u001b[1;32mIn[21], line 9\u001b[0m\n\u001b[0;32m      7\u001b[0m     \u001b[38;5;28mprint\u001b[39m(\u001b[38;5;241m5\u001b[39m\u001b[38;5;241m/\u001b[39m\u001b[38;5;241m2\u001b[39m)\u001b[38;5;66;03m# Logic Code  ERROR, as error occured here it directly moved to line of except ecluding \u001b[39;00m\n\u001b[0;32m      8\u001b[0m     \u001b[38;5;28mprint\u001b[39m(li[\u001b[38;5;241m0\u001b[39m])\n\u001b[1;32m----> 9\u001b[0m     \u001b[38;5;28mprint\u001b[39m(\u001b[43mxyz\u001b[49m)\n\u001b[0;32m     11\u001b[0m \u001b[38;5;28;01mexcept\u001b[39;00m(\u001b[38;5;167;01mZeroDivisionError\u001b[39;00m, \u001b[38;5;167;01mIndexError\u001b[39;00m ): \u001b[38;5;66;03m# error name without quotation\u001b[39;00m\n\u001b[0;32m     12\u001b[0m    \u001b[38;5;28mprint\u001b[39m(\u001b[38;5;124m\"\u001b[39m\u001b[38;5;124mZeroDivsion Error\u001b[39m\u001b[38;5;124m\"\u001b[39m)\n",
      "\u001b[1;31mNameError\u001b[0m: name 'xyz' is not defined"
     ]
    }
   ],
   "source": [
    "print(\"logic 1\")\n",
    "print(\"Logic 2\")\n",
    "\n",
    "li : list[int] =[1, 2, 3]\n",
    "\n",
    "try:\n",
    "    print(5/2)# Logic Code  ERROR, as error occured here it directly moved to line of except ecluding \n",
    "    print(li[0])\n",
    "    print(xyz) # Error here\n",
    "\n",
    "except(ZeroDivisionError, IndexError ): # error name without quotation\n",
    "   print(\"ZeroDivsion Error\")\n",
    "\n",
    "print(\"logic4\")\n",
    "print(\"logic5\")"
   ]
  },
  {
   "cell_type": "code",
   "execution_count": 22,
   "metadata": {},
   "outputs": [
    {
     "name": "stdout",
     "output_type": "stream",
     "text": [
      "logic 1\n",
      "Logic 2\n",
      "2.5\n",
      "1\n",
      "ZeroDivsion Error\n",
      "logic4\n",
      "logic5\n"
     ]
    }
   ],
   "source": [
    "print(\"logic 1\")\n",
    "print(\"Logic 2\")\n",
    "\n",
    "li : list[int] =[1, 2, 3]\n",
    "\n",
    "try:\n",
    "    print(5/2)# Logic Code  ERROR, as error occured here it directly moved to line of except ecluding \n",
    "    print(li[0])\n",
    "    print(xyz) # Error here\n",
    "\n",
    "except(ZeroDivisionError, IndexError, NameError ): # error name without quotation, when handled did't got error\n",
    "   print(\"ZeroDivsion Error\")\n",
    "\n",
    "print(\"logic4\")\n",
    "print(\"logic5\")"
   ]
  }
 ],
 "metadata": {
  "kernelspec": {
   "display_name": "python12",
   "language": "python",
   "name": "python3"
  },
  "language_info": {
   "codemirror_mode": {
    "name": "ipython",
    "version": 3
   },
   "file_extension": ".py",
   "mimetype": "text/x-python",
   "name": "python",
   "nbconvert_exporter": "python",
   "pygments_lexer": "ipython3",
   "version": "3.12.0"
  }
 },
 "nbformat": 4,
 "nbformat_minor": 2
}
