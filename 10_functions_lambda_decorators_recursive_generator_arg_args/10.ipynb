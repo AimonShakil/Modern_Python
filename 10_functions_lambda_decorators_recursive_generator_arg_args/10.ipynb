{
 "cells": [
  {
   "cell_type": "markdown",
   "metadata": {},
   "source": [
    "# Functions\n",
    "* Save from repetitive code\n",
    "    * Predefined Funtions: made by community, provided in language\n",
    "    * User Defined Functions: Custom/ user defined Functions, for particular even or time\n",
    "\n",
    "## Similar Properties on Both Types\n",
    "\n",
    "* Return and Non-Return function\n",
    "    * Return\n",
    "        * we can assign this funtion output any variable\n",
    "    * Non-Return Function\n",
    "        * Only run nad value can't be assigned to variable\n",
    "\n",
    "## Components of Functions\n",
    "    1. Function declaration\n",
    "    2. Function Body\n",
    "    3. function calling\n",
    "\n",
    "### Function Syntax\n",
    "```\n",
    "def function name (param1: type, param2 : type, ...  ) ->Return_type:\n",
    "    function body\n",
    "function_name(arg 1 , arg 2)\n",
    "```\n",
    "\n",
    "\n",
    "\n"
   ]
  },
  {
   "cell_type": "code",
   "execution_count": null,
   "metadata": {},
   "outputs": [],
   "source": [
    "# Predefined Functions list\n"
   ]
  },
  {
   "cell_type": "markdown",
   "metadata": {},
   "source": [
    "# Pre-defined functions List\n",
    "* Print\n",
    "* len\n",
    "* id\n",
    "* dir\n",
    "* chr\n",
    "* exec\n",
    "* ord"
   ]
  },
  {
   "cell_type": "markdown",
   "metadata": {},
   "source": [
    "# Return and Non Return Function"
   ]
  },
  {
   "cell_type": "markdown",
   "metadata": {},
   "source": [
    "``` \n",
    "Function and Class Object Methods Identification / difference\n",
    "*   variable.method() <-- Method \n",
    "\n",
    "```"
   ]
  },
  {
   "cell_type": "code",
   "execution_count": 1,
   "metadata": {},
   "outputs": [
    {
     "name": "stdout",
     "output_type": "stream",
     "text": [
      "pakistan\n"
     ]
    },
    {
     "data": {
      "text/plain": [
       "None"
      ]
     },
     "metadata": {},
     "output_type": "display_data"
    }
   ],
   "source": [
    "a : str = print(\"pakistan\") # if value comes in a it means it is a reurn Function if not it is non return | None\n",
    "\n",
    "display(a) # Print is a non return function, they are global function and are not belonging to class, er should known about main global functions and how they made"
   ]
  },
  {
   "cell_type": "code",
   "execution_count": 2,
   "metadata": {},
   "outputs": [
    {
     "data": {
      "text/plain": [
       "3"
      ]
     },
     "metadata": {},
     "output_type": "display_data"
    }
   ],
   "source": [
    "a : int = len(\"Pak\") # return function\n",
    "display(a)"
   ]
  }
 ],
 "metadata": {
  "kernelspec": {
   "display_name": "python12",
   "language": "python",
   "name": "python3"
  },
  "language_info": {
   "codemirror_mode": {
    "name": "ipython",
    "version": 3
   },
   "file_extension": ".py",
   "mimetype": "text/x-python",
   "name": "python",
   "nbconvert_exporter": "python",
   "pygments_lexer": "ipython3",
   "version": "3.12.0"
  }
 },
 "nbformat": 4,
 "nbformat_minor": 2
}
