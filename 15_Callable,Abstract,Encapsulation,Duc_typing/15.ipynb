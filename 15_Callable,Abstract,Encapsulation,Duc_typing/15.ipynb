{
 "cells": [
  {
   "cell_type": "code",
   "execution_count": null,
   "metadata": {},
   "outputs": [],
   "source": [
    "# what is callable, why callbe functions being made. we have init method and callable function and attribute which is obj based class by default function\n",
    "# means in many predefined methods and classes callable is already a function.\n",
    "\n",
    "# Uses of Callable: Init function and callable, init function always called when we make an Object and call it and its story ends, on the otherhand callable object \n",
    "# we can asscoaite any method and associate any object, callable method makes it callable funcntion, so whenever we call a callable method a callable function will be called and we can generate\n",
    "# history append data can make decorators  "
   ]
  },
  {
   "cell_type": "code",
   "execution_count": 3,
   "metadata": {},
   "outputs": [],
   "source": [
    "# After Package Documentation with Pip Install we can Install this packgae, and when we public this anyone in world can use this \n",
    "# anyone by installing pip can install this package as well\n",
    "\n",
    "# How\n",
    "# in local directory this piaic package/ folder has been placed and inside it is a file genai.py and module extension would be .py\n",
    "# \n",
    "# \n",
    "from piaic.genai import ExecutionTimer # exmple out of many classes we choosen to have this class, so a package  has beenmade, its means code written over there in py file has arived here\n",
    "\n",
    "\n"
   ]
  },
  {
   "cell_type": "code",
   "execution_count": 6,
   "metadata": {},
   "outputs": [],
   "source": [
    "# after import we will be using this class as a decorator, we have made our own decoator anyoe can put this timer function/ decorator and can use it, these are advance use cases can also save logs and a\n",
    "\n",
    "@ExecutionTimer\n",
    "def squre_numbers(numbers):\n",
    "    return [number ** 2 for number in numbers]\n",
    "\n",
    "    squre_numbers(list(range(10)))\n"
   ]
  },
  {
   "cell_type": "code",
   "execution_count": null,
   "metadata": {},
   "outputs": [],
   "source": [
    "# Make a Package and Share a link in group task"
   ]
  },
  {
   "cell_type": "markdown",
   "metadata": {},
   "source": [
    "# Encapsulation\n",
    "* Before encapsulation we should know access modifiers \n",
    "* 3 Types of access modifiers\n",
    "    * Private [Full secure]\n",
    "    * Public\n",
    "    * \n",
    "    * Protected "
   ]
  },
  {
   "cell_type": "code",
   "execution_count": 12,
   "metadata": {},
   "outputs": [
    {
     "ename": "NameError",
     "evalue": "name 'Piaic' is not defined",
     "output_type": "error",
     "traceback": [
      "\u001b[1;31m---------------------------------------------------------------------------\u001b[0m",
      "\u001b[1;31mNameError\u001b[0m                                 Traceback (most recent call last)",
      "Cell \u001b[1;32mIn[12], line 15\u001b[0m\n\u001b[0;32m     10\u001b[0m         \u001b[38;5;28mself\u001b[39m\u001b[38;5;241m.\u001b[39m__test_anouncement : \u001b[38;5;28mstr\u001b[39m \u001b[38;5;241m=\u001b[39m\u001b[38;5;124m\"\u001b[39m\u001b[38;5;124m 5 Nov 2023\u001b[39m\u001b[38;5;124m\"\u001b[39m\n\u001b[0;32m     13\u001b[0m \u001b[38;5;66;03m# Now we are making an Object\u001b[39;00m\n\u001b[1;32m---> 15\u001b[0m amCucum : Piaic \u001b[38;5;241m=\u001b[39m \u001b[43mPiaic\u001b[49m()\n\u001b[0;32m     17\u001b[0m \u001b[38;5;28mprint\u001b[39m(amCucum\u001b[38;5;241m.\u001b[39mpiaic_helpline) \u001b[38;5;66;03m# number will access as this is public anyone can edit it\u001b[39;00m\n\u001b[0;32m     19\u001b[0m \u001b[38;5;66;03m#correct the error form repo\u001b[39;00m\n",
      "\u001b[1;31mNameError\u001b[0m: name 'Piaic' is not defined"
     ]
    }
   ],
   "source": [
    "class PIAIC():\n",
    "    def __init__(self) -> None: \n",
    "        #self.name                  Direct access is Public\n",
    "        self.piaic_helpline: str = \"0800\"\n",
    "\n",
    "        #self._name                  protected\n",
    "        self._total_expense : int = \"60000\" # Protected is identified as after . and before variable name put underscore\n",
    "\n",
    "        #self.__name                  private / dunder \n",
    "        self.__test_anouncement : str =\" 5 Nov 2023\"\n",
    "\n",
    "\n",
    "# Now we are making an Object\n",
    "\n",
    "amCucum : Piaic = Piaic()\n",
    "\n",
    "print(amCucum.piaic_helpline) # number will access as this is public anyone can edit it\n",
    "\n",
    "#correct the error form repo"
   ]
  },
  {
   "cell_type": "code",
   "execution_count": 10,
   "metadata": {},
   "outputs": [
    {
     "ename": "NameError",
     "evalue": "name 'amCucum' is not defined",
     "output_type": "error",
     "traceback": [
      "\u001b[1;31m---------------------------------------------------------------------------\u001b[0m",
      "\u001b[1;31mNameError\u001b[0m                                 Traceback (most recent call last)",
      "Cell \u001b[1;32mIn[10], line 1\u001b[0m\n\u001b[1;32m----> 1\u001b[0m \u001b[43mamCucum\u001b[49m\u001b[38;5;241m.\u001b[39mpiaic_helpline \u001b[38;5;241m=\u001b[39m\u001b[38;5;124m\"\u001b[39m\u001b[38;5;124m0300\u001b[39m\u001b[38;5;124m\"\u001b[39m\n\u001b[0;32m      3\u001b[0m \u001b[38;5;28mprint\u001b[39m(amCucum\u001b[38;5;241m.\u001b[39mpiaic_helpline)\n",
      "\u001b[1;31mNameError\u001b[0m: name 'amCucum' is not defined"
     ]
    }
   ],
   "source": [
    "amCucum.piaic_helpline =\"0300\"\n",
    "\n",
    "print(amCucum.piaic_helpline)"
   ]
  },
  {
   "cell_type": "code",
   "execution_count": null,
   "metadata": {},
   "outputs": [],
   "source": [
    "# Accessing Private\n",
    "\n",
    "amCucum.Piaic__test_announcmenet  # not pure object oriented progrmaming"
   ]
  },
  {
   "cell_type": "markdown",
   "metadata": {},
   "source": [
    "### Encapsulation\n",
    "\n",
    "* we can do any class or object private and no one can access it through object also can't be updated \n",
    "* Private methods or attributes are accessible within class or child class are accessible"
   ]
  },
  {
   "cell_type": "code",
   "execution_count": 16,
   "metadata": {},
   "outputs": [
    {
     "ename": "IndentationError",
     "evalue": "expected an indented block after function definition on line 18 (3848360142.py, line 19)",
     "output_type": "error",
     "traceback": [
      "\u001b[1;36m  Cell \u001b[1;32mIn[16], line 19\u001b[1;36m\u001b[0m\n\u001b[1;33m    self.__dbconnectivity(user, pass1)\u001b[0m\n\u001b[1;37m    ^\u001b[0m\n\u001b[1;31mIndentationError\u001b[0m\u001b[1;31m:\u001b[0m expected an indented block after function definition on line 18\n"
     ]
    }
   ],
   "source": [
    "class StudentLogin():\n",
    "    def __init__(self) -> None:\n",
    "        self.__username : str = \"Admin\" # Private Variable \n",
    "        self.__password : str = \"Admin\" # Private Variable\n",
    "\n",
    "    def __dbconnectivity(self, user: str, password: str): # Purpose: when we do this at backend connectivty happens \n",
    "        print(\"successfully Connected\")\n",
    "        if user == self.__username and password == self.__password:\n",
    "            return \"Valid user\"\n",
    "        else:\n",
    "            return \"Invalid user\"\n",
    "\n",
    "    def update_password(self, password : str):\n",
    "        self.__password = password\n",
    "\n",
    "# above class and Function is private and cannot be accessed directly, we will make you a protocol specific function through whcich you can access them\n",
    "    \n",
    "    def student_login(self, user: str, pass1: str):\n",
    "    messageself.__dbconnectivity(user, pass1)\n",
    "\n",
    "def display_information(self)\n",
    "    print(\"Hello Dear, {self.__username} and password {self.__password}\")\n",
    "\n",
    "Amcucm : StudentLogin = StudentLogin()  # Amcucm is an Object of student Login\n",
    "\n",
    "\n"
   ]
  },
  {
   "cell_type": "markdown",
   "metadata": {},
   "source": [
    "# Abstract Class\n",
    "* Abstract Class is class which does not have a object in real world, abstract classes have general purpose attributes and methods (like animal class) but in real world they do not have any Object\n",
    "* we write general attributes and methods in abstract and dont allow to make direct Object "
   ]
  },
  {
   "cell_type": "code",
   "execution_count": null,
   "metadata": {},
   "outputs": [],
   "source": [
    "from abc import ABC, abstractmethod # ABC means absract base classes \n",
    "# Any class we wan to make abstract make parent (ABC)\n",
    "\n",
    "class Animal(ABC):\n",
    "    @abstractmethod # decorated being made \n",
    "    def __init__(self) ->None:\n",
    "        super().__init__()\n",
    "        self.living_thing :bool = True\n",
    "\n",
    "\n",
    "Am : Animal  =  Animal()"
   ]
  },
  {
   "cell_type": "markdown",
   "metadata": {},
   "source": [
    "### Nominal Typing and Duck Typing"
   ]
  },
  {
   "cell_type": "markdown",
   "metadata": {},
   "source": [
    "#### Numpy & Pandas\n",
    "\n",
    "* Numpy: For Numerical Competitions we use Numpy , in AI , deep learning and GenAi , and what ever data is text graph images AI and deep Neural network convert it into numbers whaich is called as Vctor Tensor or 2D array , every data is converted to numbers and to handle this we have a powerdul library called as a Numpy, numpy is 90% faster than python it performs powerful numerical operation so whatever kind of data we have than we give to Neural network and AI\n",
    "\n",
    "* Pandas: Structured, semi structed  or json graph nots or any other data which can be converted to structured data or tabular form this tabular form to handle that data in fast and efficient way forfiltering / fine tunning efficient processing that tasks can be performed effeciently on tabular data throug pandas , Microsoft have incorporated python and pandas in Excel"
   ]
  }
 ],
 "metadata": {
  "kernelspec": {
   "display_name": "python12",
   "language": "python",
   "name": "python3"
  },
  "language_info": {
   "codemirror_mode": {
    "name": "ipython",
    "version": 3
   },
   "file_extension": ".py",
   "mimetype": "text/x-python",
   "name": "python",
   "nbconvert_exporter": "python",
   "pygments_lexer": "ipython3",
   "version": "3.12.0"
  }
 },
 "nbformat": 4,
 "nbformat_minor": 2
}
