{
 "cells": [
  {
   "cell_type": "markdown",
   "metadata": {},
   "source": [
    "# If Else Statements\n",
    "For taking particular decision , if else are logical control blocks , considering true nature of Block\n",
    "is significant, otherwise can understand if else logic importance. likewise Comparison operators are important\n",
    "\n",
    "# If-else-elif\n",
    "\n",
    "Syntax\n",
    "```\n",
    "if logic:\n",
    "    True_block\n",
    "else:\n",
    "    False_Block\n",
    "```\n",
    "\n",
    "# Comprehensive If-else \n",
    "\n",
    "Syntax\n",
    "```\n",
    "True_block if logic else False_Block\n",
    "\n",
    "```\n",
    "* if\n",
    "* if-else\n",
    "* if-elif (as many)-else [wih if and associated Elif only one logic will work]"
   ]
  },
  {
   "cell_type": "code",
   "execution_count": 1,
   "metadata": {},
   "outputs": [
    {
     "name": "stdout",
     "output_type": "stream",
     "text": [
      "Pakistan\n"
     ]
    }
   ],
   "source": [
    "# By considering that logic has true and false, and run logic in a particular block means chunck of Block\n",
    "# IF else logic is very imp for authentications and logins and significiant for coding a business rules and logics \n",
    "\n",
    "\n",
    "if True: \n",
    "    print(\"Pakistan\") # this is True Block, like right after if , if we write True 1st Block runs\n",
    "else: \n",
    "    print(\"Hello world!\") # this is else block "
   ]
  },
  {
   "cell_type": "code",
   "execution_count": 3,
   "metadata": {},
   "outputs": [
    {
     "name": "stdout",
     "output_type": "stream",
     "text": [
      "Hello world!\n"
     ]
    }
   ],
   "source": [
    "if False: \n",
    "    print(\"Pakistan\") # this is False Block, like right after if , if we write False else Block runs\n",
    "else: \n",
    "    print(\"Hello world!\") # this is else block "
   ]
  },
  {
   "cell_type": "code",
   "execution_count": 4,
   "metadata": {},
   "outputs": [
    {
     "name": "stdout",
     "output_type": "stream",
     "text": [
      "Hello world!\n"
     ]
    }
   ],
   "source": [
    "# Comprehensive If else\n",
    "# True Block         logic          False Block  \n",
    "print(\"Pakistan\") if False else print(\"Hello world!\") \n"
   ]
  },
  {
   "cell_type": "code",
   "execution_count": 5,
   "metadata": {},
   "outputs": [
    {
     "name": "stdout",
     "output_type": "stream",
     "text": [
      "Pakistan\n"
     ]
    }
   ],
   "source": [
    "\n",
    "print(\"Pakistan\") if True else print(\"Hello world!\") "
   ]
  },
  {
   "cell_type": "markdown",
   "metadata": {},
   "source": [
    "# Comparison Operators\n",
    "* ==\n",
    "* `>=`\n",
    "* <=\n",
    "* !=\n",
    "# Logic\n",
    "* and\n",
    "* or\n",
    "* not"
   ]
  },
  {
   "cell_type": "code",
   "execution_count": 7,
   "metadata": {},
   "outputs": [
    {
     "name": "stdout",
     "output_type": "stream",
     "text": [
      "True\n",
      "1\n",
      "2\n"
     ]
    }
   ],
   "source": [
    "if True:\n",
    "    print(\"True\")\n",
    "elif False:\n",
    "    print(\"elif1\")\n",
    "    \n",
    "print(\"1\")\n",
    "print(\"2\")"
   ]
  },
  {
   "cell_type": "code",
   "execution_count": 8,
   "metadata": {},
   "outputs": [
    {
     "name": "stdout",
     "output_type": "stream",
     "text": [
      "1\n",
      "2\n"
     ]
    }
   ],
   "source": [
    "if False:\n",
    "    print(\"False Block\")\n",
    "\n",
    "print(\"1\")\n",
    "print(\"2\")\n",
    "\n",
    "    "
   ]
  },
  {
   "cell_type": "code",
   "execution_count": 10,
   "metadata": {},
   "outputs": [
    {
     "name": "stdout",
     "output_type": "stream",
     "text": [
      "True Block\n"
     ]
    }
   ],
   "source": [
    "if True:\n",
    "    print(\"True Block\")\n",
    "elif False:\n",
    "    print(\"Elif logical false Block\")\n",
    "elif False:\n",
    "    print(\"Elif logical false Block 2\")\n",
    "elif False:\n",
    "    print(\"Elif logical false Block 3\")\n",
    "else: \n",
    "    print(\" Final Else Block\")"
   ]
  },
  {
   "cell_type": "code",
   "execution_count": 13,
   "metadata": {},
   "outputs": [
    {
     "name": "stdout",
     "output_type": "stream",
     "text": [
      "Elif logical false Block1\n"
     ]
    }
   ],
   "source": [
    "if False:\n",
    "    print(\"True Block\")\n",
    "elif True:\n",
    "    print(\"Elif logical false Block1\")\n",
    "elif False:\n",
    "    print(\"Elif logical false Block 2\")\n",
    "elif False:\n",
    "    print(\"Elif logical false Block 3\")\n",
    "else: \n",
    "    print(\" Final Else Block\")"
   ]
  },
  {
   "cell_type": "code",
   "execution_count": 17,
   "metadata": {},
   "outputs": [
    {
     "name": "stdout",
     "output_type": "stream",
     "text": [
      "Elif logical false Block 2\n",
      "Pakistan\n",
      " Final Else Block\n",
      "Pakistan\n"
     ]
    }
   ],
   "source": [
    "# Chain 1 run only one Block \n",
    "if False:\n",
    "    print(\"True Block\")\n",
    "elif False:\n",
    "    print(\"Elif logical false Block1\")\n",
    "elif True:\n",
    "    print(\"Elif logical false Block 2\") # if both true found, will run first and out of if else chaining\n",
    "elif True:\n",
    "    print(\"Elif logical false Block 3\")\n",
    "else: \n",
    "    print(\" Final Else Block\")\n",
    "\n",
    "print(\"Pakistan\")\n",
    "\n",
    "\n",
    "# Chain 2 run only one Block \n",
    "if False:\n",
    "    print(\"True Block\")\n",
    "elif False:\n",
    "    print(\"Elif logical false Block1\")\n",
    "elif False:\n",
    "    print(\"Elif logical false Block 2\") # if both true found, will run first and out of if else chaining\n",
    "elif False:\n",
    "    print(\"Elif logical false Block 3\")\n",
    "else: \n",
    "    print(\" Final Else Block\")\n",
    "\n",
    "print(\"Pakistan\")"
   ]
  },
  {
   "cell_type": "markdown",
   "metadata": {},
   "source": [
    "# Grading System\n",
    " Making Students percentage System\n",
    "# Grading Rule\n",
    "on the basis of percentage we will update Grade"
   ]
  },
  {
   "cell_type": "code",
   "execution_count": 21,
   "metadata": {},
   "outputs": [
    {
     "name": "stdout",
     "output_type": "stream",
     "text": [
      "Dear Student your percentage is 88 now your calculated grade is:\tA+\n"
     ]
    }
   ],
   "source": [
    "from typing import Union\n",
    "per : Union[int, float] = 88  # Value is hardcoded\n",
    "grade : Union[str, None] = None\n",
    "\n",
    "if per >= 80: # this will become True and only this condition runs\n",
    "    grade = \"A+\"\n",
    "elif per >=70:\n",
    "    grade = \"A\"\n",
    "elif per >=60:\n",
    "    grade = \"B\"\n",
    "elif per >=50:\n",
    "    grade = \"C\"\n",
    "elif per >=40:\n",
    "    grade = \"D\"\n",
    "elif per >=33:\n",
    "    grade = \"E\"\n",
    "else:\n",
    "    grade = \"F\"\n",
    "print(f\"Dear Student your percentage is {per} now your calculated grade is:\\t{grade}\")"
   ]
  },
  {
   "cell_type": "code",
   "execution_count": 23,
   "metadata": {},
   "outputs": [
    {
     "name": "stdout",
     "output_type": "stream",
     "text": [
      "<class 'str'>\n",
      "8\n"
     ]
    }
   ],
   "source": [
    "a = input(\"enter percentage:\\t\")\n",
    "print(type(a)) # Input is of Type String we will typecase like below\n",
    "print(a)"
   ]
  },
  {
   "cell_type": "code",
   "execution_count": 24,
   "metadata": {},
   "outputs": [
    {
     "name": "stdout",
     "output_type": "stream",
     "text": [
      "Dear Student your percentage is 67 now your calculated grade is:\tB\n"
     ]
    }
   ],
   "source": [
    "# Making Dynamic\n",
    "\n",
    "\n",
    "per : Union[int, float] = int(input(\"Enter Your Percentage:\\t\")) # with typecast converted to number\n",
    "# per : int | float = 88 can use \n",
    "grade : Union[str, None] = None\n",
    "#grade : Optional[str, ] = None by default none\n",
    "\n",
    "\n",
    "if per >= 80: # this will become True and only this condition runs\n",
    "    grade = \"A+\"\n",
    "elif per >=70:\n",
    "    grade = \"A\"\n",
    "elif per >=60:\n",
    "    grade = \"B\"\n",
    "elif per >=50:\n",
    "    grade = \"C\"\n",
    "elif per >=40:\n",
    "    grade = \"D\"\n",
    "elif per >=33:\n",
    "    grade = \"E\"\n",
    "else:\n",
    "    grade = \"F\"\n",
    "print(f\"Dear Student your percentage is {per} now your calculated grade is:\\t{grade}\")"
   ]
  },
  {
   "cell_type": "markdown",
   "metadata": {},
   "source": [
    "# Errors\n",
    "* Development Time Error: Syntactical Errors\n",
    "* Run Time Error : comes when run\n",
    "* Logical Error : No Intellisense, only way is through testing"
   ]
  },
  {
   "cell_type": "code",
   "execution_count": 25,
   "metadata": {},
   "outputs": [
    {
     "name": "stdout",
     "output_type": "stream",
     "text": [
      "Dear Student your percentage is 99 now your calculated grade is:\tFail\n"
     ]
    }
   ],
   "source": [
    "from typing import Union\n",
    "per : Union[int, float] = 99  # Value is hardcoded\n",
    "grade : Union[str, None] = None\n",
    "\n",
    "if per >= 0: # this will become True and only this condition runs\n",
    "# if 99 >=0 Condition is True so no other block runs\n",
    "    grade = \"Fail\"\n",
    "elif per >=33:\n",
    "    grade = \"E\"\n",
    "elif per >=44:\n",
    "    grade = \"D\"\n",
    "elif per >=66:\n",
    "    grade = \"C\"\n",
    "elif per >=77:\n",
    "    grade = \"B\"\n",
    "elif per >=90:\n",
    "    grade = \"A+\"\n",
    "else:\n",
    "    grade = \"F\"\n",
    "print(f\"Dear Student your percentage is {per} now your calculated grade is:\\t{grade}\")"
   ]
  }
 ],
 "metadata": {
  "kernelspec": {
   "display_name": "python12",
   "language": "python",
   "name": "python3"
  },
  "language_info": {
   "codemirror_mode": {
    "name": "ipython",
    "version": 3
   },
   "file_extension": ".py",
   "mimetype": "text/x-python",
   "name": "python",
   "nbconvert_exporter": "python",
   "pygments_lexer": "ipython3",
   "version": "3.12.0"
  }
 },
 "nbformat": 4,
 "nbformat_minor": 2
}
