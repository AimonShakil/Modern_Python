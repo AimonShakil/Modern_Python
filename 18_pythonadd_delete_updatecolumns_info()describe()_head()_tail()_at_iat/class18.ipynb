{
 "cells": [
  {
   "cell_type": "code",
   "execution_count": null,
   "metadata": {},
   "outputs": [],
   "source": [
    "# will create Dummy Data and will aplly functionality specifically with column"
   ]
  }
 ],
 "metadata": {
  "language_info": {
   "name": "python"
  }
 },
 "nbformat": 4,
 "nbformat_minor": 2
}
