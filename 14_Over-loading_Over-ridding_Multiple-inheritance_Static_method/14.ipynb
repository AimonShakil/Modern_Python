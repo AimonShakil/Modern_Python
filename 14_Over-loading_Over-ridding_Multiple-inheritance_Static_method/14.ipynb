{
 "cells": [
  {
   "cell_type": "markdown",
   "metadata": {},
   "source": [
    "### Multiple Inheritance Concept "
   ]
  },
  {
   "cell_type": "code",
   "execution_count": 5,
   "metadata": {},
   "outputs": [
    {
     "name": "stdout",
     "output_type": "stream",
     "text": [
      "Object Height 6 Feet\n",
      "Object Eye Colorblue\n",
      "Mother Speaking Function\n"
     ]
    }
   ],
   "source": [
    "class Mother():\n",
    "    def __init__(self, name: str) -> None:\n",
    "        self.name : str = name\n",
    "        self.eye_color : str =  \"blue\"\n",
    "\n",
    "    def speaking(self, words : str) ->str:  # Defined a Function\n",
    "        return f\"Mother Speaking Function\"\n",
    "\n",
    "\n",
    "class Father():\n",
    "    def __init__(self, name: str) -> None:\n",
    "        self.name : str = name\n",
    "        self.height : str =  \"6 Feet\"\n",
    "\n",
    "\n",
    "class Child(Mother, Father):\n",
    "    def __init__(self, mother_name : str, father_name: str, child_name : str) -> None: # as attributes are in constructor and we want to access methods & attributes of Parent Class and when the've been caled value also goes insid them.  \n",
    "        Mother.__init__(self, mother_name)\n",
    "        Father.__init__(self, father_name)\n",
    "        self.child_name : str = child_name\n",
    "\n",
    "Amcucum : Child = Child(\"QJ\", \"SK\", \"Amcucm\")\n",
    "\n",
    "print(f\"Object Height {Amcucum.height}\")\n",
    "print(f\"Object Eye Color{Amcucum.eye_color}\")\n",
    "print(Amcucum.speaking(\"Pakistan\"))\n",
    "\n",
    "# Multiple Inheritance in Python\n"
   ]
  },
  {
   "cell_type": "code",
   "execution_count": 3,
   "metadata": {},
   "outputs": [
    {
     "data": {
      "text/plain": [
       "['__class__',\n",
       " '__delattr__',\n",
       " '__dict__',\n",
       " '__dir__',\n",
       " '__doc__',\n",
       " '__eq__',\n",
       " '__format__',\n",
       " '__ge__',\n",
       " '__getattribute__',\n",
       " '__getstate__',\n",
       " '__gt__',\n",
       " '__hash__',\n",
       " '__init__',\n",
       " '__init_subclass__',\n",
       " '__le__',\n",
       " '__lt__',\n",
       " '__module__',\n",
       " '__ne__',\n",
       " '__new__',\n",
       " '__reduce__',\n",
       " '__reduce_ex__',\n",
       " '__repr__',\n",
       " '__setattr__',\n",
       " '__sizeof__',\n",
       " '__str__',\n",
       " '__subclasshook__',\n",
       " '__weakref__',\n",
       " 'child_name',\n",
       " 'eye_color',\n",
       " 'height',\n",
       " 'name',\n",
       " 'speaking']"
      ]
     },
     "execution_count": 3,
     "metadata": {},
     "output_type": "execute_result"
    }
   ],
   "source": [
    "dir(Amcucum) # This Object has "
   ]
  },
  {
   "cell_type": "code",
   "execution_count": null,
   "metadata": {},
   "outputs": [],
   "source": [
    "# One to many: with in one Object from multiple classes how multiple things can be Inherited \n",
    "# if from one name two methods and have two varibales, then the concept of overriding will apply here and Inhereitance which is nearby child thats method will override \n",
    "# Example if Monther and Father both have speaking function and most nearest is mother so this will inherit "
   ]
  },
  {
   "cell_type": "code",
   "execution_count": 12,
   "metadata": {},
   "outputs": [
    {
     "ename": "NameError",
     "evalue": "name 'self' is not defined",
     "output_type": "error",
     "traceback": [
      "\u001b[1;31m---------------------------------------------------------------------------\u001b[0m",
      "\u001b[1;31mNameError\u001b[0m                                 Traceback (most recent call last)",
      "Cell \u001b[1;32mIn[12], line 19\u001b[0m\n\u001b[0;32m     15\u001b[0m \u001b[38;5;28;01mdef\u001b[39;00m \u001b[38;5;21mspeaking\u001b[39m(\u001b[38;5;28mself\u001b[39m, words : \u001b[38;5;28mstr\u001b[39m) \u001b[38;5;241m-\u001b[39m\u001b[38;5;241m>\u001b[39m\u001b[38;5;28mstr\u001b[39m:  \u001b[38;5;66;03m# Defined a Function\u001b[39;00m\n\u001b[0;32m     16\u001b[0m     \u001b[38;5;28;01mreturn\u001b[39;00m \u001b[38;5;124mf\u001b[39m\u001b[38;5;124m\"\u001b[39m\u001b[38;5;124mFather Speaking Function\u001b[39m\u001b[38;5;124m\"\u001b[39m\n\u001b[1;32m---> 19\u001b[0m \u001b[38;5;28;43;01mclass\u001b[39;49;00m\u001b[43m \u001b[49m\u001b[38;5;21;43;01mChild\u001b[39;49;00m\u001b[43m(\u001b[49m\u001b[43mMother\u001b[49m\u001b[43m,\u001b[49m\u001b[43m \u001b[49m\u001b[43mFather\u001b[49m\u001b[43m)\u001b[49m\u001b[43m:\u001b[49m\n\u001b[0;32m     20\u001b[0m \u001b[43m    \u001b[49m\u001b[38;5;28;43;01mdef\u001b[39;49;00m\u001b[43m \u001b[49m\u001b[38;5;21;43m__init__\u001b[39;49m\u001b[43m(\u001b[49m\u001b[38;5;28;43mself\u001b[39;49m\u001b[43m,\u001b[49m\u001b[43m \u001b[49m\u001b[43mmother_name\u001b[49m\u001b[43m \u001b[49m\u001b[43m:\u001b[49m\u001b[43m \u001b[49m\u001b[38;5;28;43mstr\u001b[39;49m\u001b[43m,\u001b[49m\u001b[43m \u001b[49m\u001b[43mfather_name\u001b[49m\u001b[43m:\u001b[49m\u001b[43m \u001b[49m\u001b[38;5;28;43mstr\u001b[39;49m\u001b[43m,\u001b[49m\u001b[43m \u001b[49m\u001b[43mchild_name\u001b[49m\u001b[43m \u001b[49m\u001b[43m:\u001b[49m\u001b[43m \u001b[49m\u001b[38;5;28;43mstr\u001b[39;49m\u001b[43m)\u001b[49m\u001b[43m \u001b[49m\u001b[38;5;241;43m-\u001b[39;49m\u001b[38;5;241;43m>\u001b[39;49m\u001b[43m \u001b[49m\u001b[38;5;28;43;01mNone\u001b[39;49;00m\u001b[43m:\u001b[49m\u001b[43m \u001b[49m\u001b[38;5;66;43;03m# as attributes are in constructor and we want to access methods & attributes of Parent Class and when the've been caled value also goes insid them.  \u001b[39;49;00m\n\u001b[0;32m     21\u001b[0m \u001b[43m        \u001b[49m\u001b[43mMother\u001b[49m\u001b[38;5;241;43m.\u001b[39;49m\u001b[38;5;21;43m__init__\u001b[39;49m\u001b[43m(\u001b[49m\u001b[38;5;28;43mself\u001b[39;49m\u001b[43m,\u001b[49m\u001b[43m \u001b[49m\u001b[43mmother_name\u001b[49m\u001b[43m)\u001b[49m\n",
      "Cell \u001b[1;32mIn[12], line 22\u001b[0m, in \u001b[0;36mChild\u001b[1;34m()\u001b[0m\n\u001b[0;32m     20\u001b[0m \u001b[38;5;28;01mdef\u001b[39;00m \u001b[38;5;21m__init__\u001b[39m(\u001b[38;5;28mself\u001b[39m, mother_name : \u001b[38;5;28mstr\u001b[39m, father_name: \u001b[38;5;28mstr\u001b[39m, child_name : \u001b[38;5;28mstr\u001b[39m) \u001b[38;5;241m-\u001b[39m\u001b[38;5;241m>\u001b[39m \u001b[38;5;28;01mNone\u001b[39;00m: \u001b[38;5;66;03m# as attributes are in constructor and we want to access methods & attributes of Parent Class and when the've been caled value also goes insid them.  \u001b[39;00m\n\u001b[0;32m     21\u001b[0m     Mother\u001b[38;5;241m.\u001b[39m\u001b[38;5;21m__init__\u001b[39m(\u001b[38;5;28mself\u001b[39m, mother_name)\n\u001b[1;32m---> 22\u001b[0m Father\u001b[38;5;241m.\u001b[39m\u001b[38;5;21m__init__\u001b[39m(\u001b[38;5;28;43mself\u001b[39;49m, father_name)\n\u001b[0;32m     23\u001b[0m \u001b[38;5;28mself\u001b[39m\u001b[38;5;241m.\u001b[39mchild_name : \u001b[38;5;28mstr\u001b[39m \u001b[38;5;241m=\u001b[39m child_name\n",
      "\u001b[1;31mNameError\u001b[0m: name 'self' is not defined"
     ]
    }
   ],
   "source": [
    "    class Mother():\n",
    "        def __init__(self, name: str) -> None:\n",
    "            self.name : str = name\n",
    "            self.eye_color : str =  \"blue\"\n",
    "\n",
    "    def speaking(self, words : str) ->str:  # Defined a Function\n",
    "        return f\"Mother Speaking Function\"\n",
    "\n",
    "\n",
    "    class Father():\n",
    "        def __init__(self, name: str) -> None:\n",
    "            self.name : str = name\n",
    "            self.height : str =  \"6 Feet\"\n",
    "\n",
    "    def speaking(self, words : str) ->str:  # Defined a Function\n",
    "        return f\"Father Speaking Function\"\n",
    "\n",
    "\n",
    "    class Child(Mother, Father):\n",
    "        def __init__(self, mother_name : str, father_name: str, child_name : str) -> None: # as attributes are in constructor and we want to access methods & attributes of Parent Class and when the've been caled value also goes insid them.  \n",
    "            Mother.__init__(self, mother_name)\n",
    "            Father.__init__(self, father_name)\n",
    "        self.child_name : str = child_name\n",
    "\n",
    "Amcucum : Child = Child(\"QJ\", \"SK\", \"Amcucm\")\n",
    "\n",
    "print(f\"Object Height {Amcucum.height}\")\n",
    "print(f\"Object Eye Color{Amcucum.eye_color}\")\n",
    "print(Amcucum.speaking(\"Pakistan\"))                 # Set Indentation"
   ]
  },
  {
   "cell_type": "code",
   "execution_count": null,
   "metadata": {},
   "outputs": [],
   "source": [
    "# two methods of one name is called a overriding"
   ]
  },
  {
   "cell_type": "code",
   "execution_count": 13,
   "metadata": {},
   "outputs": [
    {
     "name": "stdout",
     "output_type": "stream",
     "text": [
      "10.0\n",
      "10\n"
     ]
    }
   ],
   "source": [
    "class Adder():\n",
    "    def add(self, x: int, y: int)-> int:\n",
    "        return x + y\n",
    "\n",
    "    def add(self, x: float, y: float)-> int:\n",
    "        return x + y\n",
    "\n",
    "obj:Adder = Adder()\n",
    "print(obj.add(7.0, 3.0))\n",
    "print(obj.add(7, 3))\n",
    "\n",
    "    "
   ]
  },
  {
   "cell_type": "markdown",
   "metadata": {},
   "source": [
    "## Overloading\n",
    "* Function overload\n",
    "* Operation Overload\n",
    "Overloading is not related to Inhertenace and Polymorphism, Compiler Interprestent see at runtime what is type and calls that same method\n",
    "* Concept is that Function of one name performs differnet behaviour, behaviour perform through multiple aurguments and multiple type arguments operations changes Exp id of add operator when place btw two string, it concats, when btw number adds and \n",
    "\n",
    "* Method Overloading and Function Overloading"
   ]
  },
  {
   "cell_type": "code",
   "execution_count": 14,
   "metadata": {},
   "outputs": [
    {
     "name": "stdout",
     "output_type": "stream",
     "text": [
      "Animal is eating bread\n",
      "Animal is eating grass\n"
     ]
    }
   ],
   "source": [
    "class Animal ():\n",
    "    def eating(self, food: str) ->None: # Function , Same Method\n",
    "        print(f\"Animal is eating {food}\")\n",
    "\n",
    "\n",
    "class Bird(Animal):\n",
    "    def eating(self, food: str) ->None: # Function\n",
    "        print(f\"Animal is eating {food}\")\n",
    "\n",
    "bird : Bird = Bird()\n",
    "bird.eating(\"bread\")\n",
    "\n",
    "animal : Animal = Bird()\n",
    "animal.eating(\"grass\")"
   ]
  },
  {
   "cell_type": "markdown",
   "metadata": {},
   "source": [
    "## Polymorphism & Overriding\n",
    "* if a method performs more than one behaviour it  s called as polymorphism\n",
    "* In Polymorphism has \n",
    "   \n",
    "\n",
    "1.  Overriding : overriding is a base technology to achieve polymorphism, father eats child eats in polymorpism its been decided at runtime whose Obj is that and which method to call\n",
    "\n",
    "* It is decided at run time which object method it will run"
   ]
  },
  {
   "cell_type": "code",
   "execution_count": 15,
   "metadata": {},
   "outputs": [
    {
     "name": "stdout",
     "output_type": "stream",
     "text": [
      "Animal is eating grass\n"
     ]
    }
   ],
   "source": [
    "animal : Animal = Bird() # at run time it will be decided which Object method it will run \n",
    "animal.eating(\"grass\")"
   ]
  },
  {
   "cell_type": "code",
   "execution_count": 16,
   "metadata": {},
   "outputs": [
    {
     "name": "stdout",
     "output_type": "stream",
     "text": [
      "<class '__main__.Bird'>\n"
     ]
    }
   ],
   "source": [
    "print(type(animal))"
   ]
  },
  {
   "cell_type": "code",
   "execution_count": null,
   "metadata": {},
   "outputs": [],
   "source": [
    "# when writing function and methods we cna override , no association with polymorphism and overloading means just by changing parameters seperate things have been called"
   ]
  },
  {
   "cell_type": "markdown",
   "metadata": {},
   "source": [
    "# Static Method"
   ]
  },
  {
   "cell_type": "code",
   "execution_count": null,
   "metadata": {},
   "outputs": [],
   "source": [
    "# In Python everything inherit from Object"
   ]
  },
  {
   "cell_type": "markdown",
   "metadata": {},
   "source": [
    "# Module\n",
    "* Module in Python is directory"
   ]
  }
 ],
 "metadata": {
  "kernelspec": {
   "display_name": "python12",
   "language": "python",
   "name": "python3"
  },
  "language_info": {
   "codemirror_mode": {
    "name": "ipython",
    "version": 3
   },
   "file_extension": ".py",
   "mimetype": "text/x-python",
   "name": "python",
   "nbconvert_exporter": "python",
   "pygments_lexer": "ipython3",
   "version": "3.12.0"
  }
 },
 "nbformat": 4,
 "nbformat_minor": 2
}
